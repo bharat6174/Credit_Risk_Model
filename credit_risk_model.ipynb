{
 "cells": [
  {
   "cell_type": "markdown",
   "id": "0cee4622-576e-4086-82f6-bb9fc3a5c8ec",
   "metadata": {},
   "source": [
    "## Importing libraries and data"
   ]
  },
  {
   "cell_type": "code",
   "execution_count": 1,
   "id": "44e98c38-8cd0-4bfe-93f4-8961647df3bf",
   "metadata": {},
   "outputs": [],
   "source": [
    "import pandas as pd\n",
    "import numpy as np\n",
    "import seaborn as sns\n",
    "import matplotlib.pyplot as plt"
   ]
  },
  {
   "cell_type": "code",
   "execution_count": 2,
   "id": "5b6989db-c022-4dcb-8dd1-093a64b3213e",
   "metadata": {},
   "outputs": [],
   "source": [
    "train = pd.read_csv(\"GiveMeSomeCredit/cs-training.csv\")#Importing data"
   ]
  },
  {
   "cell_type": "code",
   "execution_count": 3,
   "id": "c356234c-f372-4f2c-a056-499368828f1d",
   "metadata": {},
   "outputs": [
    {
     "data": {
      "text/html": [
       "<div>\n",
       "<style scoped>\n",
       "    .dataframe tbody tr th:only-of-type {\n",
       "        vertical-align: middle;\n",
       "    }\n",
       "\n",
       "    .dataframe tbody tr th {\n",
       "        vertical-align: top;\n",
       "    }\n",
       "\n",
       "    .dataframe thead th {\n",
       "        text-align: right;\n",
       "    }\n",
       "</style>\n",
       "<table border=\"1\" class=\"dataframe\">\n",
       "  <thead>\n",
       "    <tr style=\"text-align: right;\">\n",
       "      <th></th>\n",
       "      <th>Unnamed: 0</th>\n",
       "      <th>SeriousDlqin2yrs</th>\n",
       "      <th>RevolvingUtilizationOfUnsecuredLines</th>\n",
       "      <th>age</th>\n",
       "      <th>NumberOfTime30-59DaysPastDueNotWorse</th>\n",
       "      <th>DebtRatio</th>\n",
       "      <th>MonthlyIncome</th>\n",
       "      <th>NumberOfOpenCreditLinesAndLoans</th>\n",
       "      <th>NumberOfTimes90DaysLate</th>\n",
       "      <th>NumberRealEstateLoansOrLines</th>\n",
       "      <th>NumberOfTime60-89DaysPastDueNotWorse</th>\n",
       "      <th>NumberOfDependents</th>\n",
       "    </tr>\n",
       "  </thead>\n",
       "  <tbody>\n",
       "    <tr>\n",
       "      <th>0</th>\n",
       "      <td>30588</td>\n",
       "      <td>0</td>\n",
       "      <td>0.003032</td>\n",
       "      <td>53</td>\n",
       "      <td>0</td>\n",
       "      <td>5.967504</td>\n",
       "      <td>8000.0</td>\n",
       "      <td>60</td>\n",
       "      <td>0</td>\n",
       "      <td>60</td>\n",
       "      <td>0</td>\n",
       "      <td>0.0</td>\n",
       "    </tr>\n",
       "    <tr>\n",
       "      <th>1</th>\n",
       "      <td>104199</td>\n",
       "      <td>0</td>\n",
       "      <td>0.010846</td>\n",
       "      <td>60</td>\n",
       "      <td>0</td>\n",
       "      <td>1.041757</td>\n",
       "      <td>70000.0</td>\n",
       "      <td>38</td>\n",
       "      <td>0</td>\n",
       "      <td>32</td>\n",
       "      <td>0</td>\n",
       "      <td>0.0</td>\n",
       "    </tr>\n",
       "    <tr>\n",
       "      <th>2</th>\n",
       "      <td>65729</td>\n",
       "      <td>1</td>\n",
       "      <td>0.036942</td>\n",
       "      <td>43</td>\n",
       "      <td>0</td>\n",
       "      <td>0.719174</td>\n",
       "      <td>55966.0</td>\n",
       "      <td>41</td>\n",
       "      <td>0</td>\n",
       "      <td>29</td>\n",
       "      <td>0</td>\n",
       "      <td>0.0</td>\n",
       "    </tr>\n",
       "    <tr>\n",
       "      <th>3</th>\n",
       "      <td>18260</td>\n",
       "      <td>0</td>\n",
       "      <td>0.635363</td>\n",
       "      <td>61</td>\n",
       "      <td>6</td>\n",
       "      <td>0.429449</td>\n",
       "      <td>48000.0</td>\n",
       "      <td>33</td>\n",
       "      <td>1</td>\n",
       "      <td>26</td>\n",
       "      <td>0</td>\n",
       "      <td>1.0</td>\n",
       "    </tr>\n",
       "    <tr>\n",
       "      <th>4</th>\n",
       "      <td>68910</td>\n",
       "      <td>0</td>\n",
       "      <td>0.297748</td>\n",
       "      <td>44</td>\n",
       "      <td>0</td>\n",
       "      <td>1.237481</td>\n",
       "      <td>12400.0</td>\n",
       "      <td>42</td>\n",
       "      <td>0</td>\n",
       "      <td>25</td>\n",
       "      <td>0</td>\n",
       "      <td>2.0</td>\n",
       "    </tr>\n",
       "  </tbody>\n",
       "</table>\n",
       "</div>"
      ],
      "text/plain": [
       "   Unnamed: 0  SeriousDlqin2yrs  RevolvingUtilizationOfUnsecuredLines  age  \\\n",
       "0       30588                 0                              0.003032   53   \n",
       "1      104199                 0                              0.010846   60   \n",
       "2       65729                 1                              0.036942   43   \n",
       "3       18260                 0                              0.635363   61   \n",
       "4       68910                 0                              0.297748   44   \n",
       "\n",
       "   NumberOfTime30-59DaysPastDueNotWorse  DebtRatio  MonthlyIncome  \\\n",
       "0                                     0   5.967504         8000.0   \n",
       "1                                     0   1.041757        70000.0   \n",
       "2                                     0   0.719174        55966.0   \n",
       "3                                     6   0.429449        48000.0   \n",
       "4                                     0   1.237481        12400.0   \n",
       "\n",
       "   NumberOfOpenCreditLinesAndLoans  NumberOfTimes90DaysLate  \\\n",
       "0                               60                        0   \n",
       "1                               38                        0   \n",
       "2                               41                        0   \n",
       "3                               33                        1   \n",
       "4                               42                        0   \n",
       "\n",
       "   NumberRealEstateLoansOrLines  NumberOfTime60-89DaysPastDueNotWorse  \\\n",
       "0                            60                                     0   \n",
       "1                            32                                     0   \n",
       "2                            29                                     0   \n",
       "3                            26                                     0   \n",
       "4                            25                                     0   \n",
       "\n",
       "   NumberOfDependents  \n",
       "0                 0.0  \n",
       "1                 0.0  \n",
       "2                 0.0  \n",
       "3                 1.0  \n",
       "4                 2.0  "
      ]
     },
     "execution_count": 3,
     "metadata": {},
     "output_type": "execute_result"
    }
   ],
   "source": [
    "train.head()"
   ]
  },
  {
   "cell_type": "code",
   "execution_count": 4,
   "id": "20da8986-6456-4401-859a-2dfa59b35711",
   "metadata": {},
   "outputs": [],
   "source": [
    "train = train.drop(['Unnamed: 0'],axis = 1)"
   ]
  },
  {
   "cell_type": "markdown",
   "id": "7d402354-1ce7-44c5-93ca-ae8d2e01a0af",
   "metadata": {},
   "source": [
    "## Data shape and Overview"
   ]
  },
  {
   "cell_type": "code",
   "execution_count": 5,
   "id": "219bc481-0d23-4c05-98f7-688612d92d2a",
   "metadata": {},
   "outputs": [
    {
     "data": {
      "text/plain": [
       "(150000, 11)"
      ]
     },
     "execution_count": 5,
     "metadata": {},
     "output_type": "execute_result"
    }
   ],
   "source": [
    "train.shape"
   ]
  },
  {
   "cell_type": "code",
   "execution_count": 6,
   "id": "7a02ca3d-b7a4-443f-8c72-c530d2acb0d7",
   "metadata": {},
   "outputs": [
    {
     "data": {
      "text/html": [
       "<div>\n",
       "<style scoped>\n",
       "    .dataframe tbody tr th:only-of-type {\n",
       "        vertical-align: middle;\n",
       "    }\n",
       "\n",
       "    .dataframe tbody tr th {\n",
       "        vertical-align: top;\n",
       "    }\n",
       "\n",
       "    .dataframe thead th {\n",
       "        text-align: right;\n",
       "    }\n",
       "</style>\n",
       "<table border=\"1\" class=\"dataframe\">\n",
       "  <thead>\n",
       "    <tr style=\"text-align: right;\">\n",
       "      <th></th>\n",
       "      <th>RevolvingUtilizationOfUnsecuredLines</th>\n",
       "      <th>age</th>\n",
       "      <th>NumberOfTime30-59DaysPastDueNotWorse</th>\n",
       "      <th>DebtRatio</th>\n",
       "      <th>MonthlyIncome</th>\n",
       "      <th>NumberOfOpenCreditLinesAndLoans</th>\n",
       "      <th>NumberOfTimes90DaysLate</th>\n",
       "      <th>NumberRealEstateLoansOrLines</th>\n",
       "      <th>NumberOfTime60-89DaysPastDueNotWorse</th>\n",
       "      <th>NumberOfDependents</th>\n",
       "    </tr>\n",
       "  </thead>\n",
       "  <tbody>\n",
       "    <tr>\n",
       "      <th>count</th>\n",
       "      <td>150000.000000</td>\n",
       "      <td>150000.000000</td>\n",
       "      <td>150000.000000</td>\n",
       "      <td>150000.000000</td>\n",
       "      <td>1.202690e+05</td>\n",
       "      <td>150000.000000</td>\n",
       "      <td>150000.000000</td>\n",
       "      <td>150000.000000</td>\n",
       "      <td>150000.000000</td>\n",
       "      <td>146076.000000</td>\n",
       "    </tr>\n",
       "    <tr>\n",
       "      <th>mean</th>\n",
       "      <td>6.048438</td>\n",
       "      <td>52.295207</td>\n",
       "      <td>0.421033</td>\n",
       "      <td>353.005076</td>\n",
       "      <td>6.670221e+03</td>\n",
       "      <td>8.452773</td>\n",
       "      <td>0.265973</td>\n",
       "      <td>1.018280</td>\n",
       "      <td>0.240387</td>\n",
       "      <td>0.757222</td>\n",
       "    </tr>\n",
       "    <tr>\n",
       "      <th>std</th>\n",
       "      <td>249.755371</td>\n",
       "      <td>14.771866</td>\n",
       "      <td>4.192781</td>\n",
       "      <td>2037.818523</td>\n",
       "      <td>1.438467e+04</td>\n",
       "      <td>5.146082</td>\n",
       "      <td>4.169304</td>\n",
       "      <td>1.131751</td>\n",
       "      <td>4.155179</td>\n",
       "      <td>1.115086</td>\n",
       "    </tr>\n",
       "    <tr>\n",
       "      <th>min</th>\n",
       "      <td>0.000000</td>\n",
       "      <td>0.000000</td>\n",
       "      <td>0.000000</td>\n",
       "      <td>0.000000</td>\n",
       "      <td>0.000000e+00</td>\n",
       "      <td>0.000000</td>\n",
       "      <td>0.000000</td>\n",
       "      <td>0.000000</td>\n",
       "      <td>0.000000</td>\n",
       "      <td>0.000000</td>\n",
       "    </tr>\n",
       "    <tr>\n",
       "      <th>25%</th>\n",
       "      <td>0.029867</td>\n",
       "      <td>41.000000</td>\n",
       "      <td>0.000000</td>\n",
       "      <td>0.175074</td>\n",
       "      <td>3.400000e+03</td>\n",
       "      <td>5.000000</td>\n",
       "      <td>0.000000</td>\n",
       "      <td>0.000000</td>\n",
       "      <td>0.000000</td>\n",
       "      <td>0.000000</td>\n",
       "    </tr>\n",
       "    <tr>\n",
       "      <th>50%</th>\n",
       "      <td>0.154181</td>\n",
       "      <td>52.000000</td>\n",
       "      <td>0.000000</td>\n",
       "      <td>0.366508</td>\n",
       "      <td>5.400000e+03</td>\n",
       "      <td>8.000000</td>\n",
       "      <td>0.000000</td>\n",
       "      <td>1.000000</td>\n",
       "      <td>0.000000</td>\n",
       "      <td>0.000000</td>\n",
       "    </tr>\n",
       "    <tr>\n",
       "      <th>75%</th>\n",
       "      <td>0.559046</td>\n",
       "      <td>63.000000</td>\n",
       "      <td>0.000000</td>\n",
       "      <td>0.868254</td>\n",
       "      <td>8.249000e+03</td>\n",
       "      <td>11.000000</td>\n",
       "      <td>0.000000</td>\n",
       "      <td>2.000000</td>\n",
       "      <td>0.000000</td>\n",
       "      <td>1.000000</td>\n",
       "    </tr>\n",
       "    <tr>\n",
       "      <th>max</th>\n",
       "      <td>50708.000000</td>\n",
       "      <td>109.000000</td>\n",
       "      <td>98.000000</td>\n",
       "      <td>329664.000000</td>\n",
       "      <td>3.008750e+06</td>\n",
       "      <td>60.000000</td>\n",
       "      <td>98.000000</td>\n",
       "      <td>60.000000</td>\n",
       "      <td>98.000000</td>\n",
       "      <td>20.000000</td>\n",
       "    </tr>\n",
       "  </tbody>\n",
       "</table>\n",
       "</div>"
      ],
      "text/plain": [
       "       RevolvingUtilizationOfUnsecuredLines            age  \\\n",
       "count                         150000.000000  150000.000000   \n",
       "mean                               6.048438      52.295207   \n",
       "std                              249.755371      14.771866   \n",
       "min                                0.000000       0.000000   \n",
       "25%                                0.029867      41.000000   \n",
       "50%                                0.154181      52.000000   \n",
       "75%                                0.559046      63.000000   \n",
       "max                            50708.000000     109.000000   \n",
       "\n",
       "       NumberOfTime30-59DaysPastDueNotWorse      DebtRatio  MonthlyIncome  \\\n",
       "count                         150000.000000  150000.000000   1.202690e+05   \n",
       "mean                               0.421033     353.005076   6.670221e+03   \n",
       "std                                4.192781    2037.818523   1.438467e+04   \n",
       "min                                0.000000       0.000000   0.000000e+00   \n",
       "25%                                0.000000       0.175074   3.400000e+03   \n",
       "50%                                0.000000       0.366508   5.400000e+03   \n",
       "75%                                0.000000       0.868254   8.249000e+03   \n",
       "max                               98.000000  329664.000000   3.008750e+06   \n",
       "\n",
       "       NumberOfOpenCreditLinesAndLoans  NumberOfTimes90DaysLate  \\\n",
       "count                    150000.000000            150000.000000   \n",
       "mean                          8.452773                 0.265973   \n",
       "std                           5.146082                 4.169304   \n",
       "min                           0.000000                 0.000000   \n",
       "25%                           5.000000                 0.000000   \n",
       "50%                           8.000000                 0.000000   \n",
       "75%                          11.000000                 0.000000   \n",
       "max                          60.000000                98.000000   \n",
       "\n",
       "       NumberRealEstateLoansOrLines  NumberOfTime60-89DaysPastDueNotWorse  \\\n",
       "count                 150000.000000                         150000.000000   \n",
       "mean                       1.018280                              0.240387   \n",
       "std                        1.131751                              4.155179   \n",
       "min                        0.000000                              0.000000   \n",
       "25%                        0.000000                              0.000000   \n",
       "50%                        1.000000                              0.000000   \n",
       "75%                        2.000000                              0.000000   \n",
       "max                       60.000000                             98.000000   \n",
       "\n",
       "       NumberOfDependents  \n",
       "count       146076.000000  \n",
       "mean             0.757222  \n",
       "std              1.115086  \n",
       "min              0.000000  \n",
       "25%              0.000000  \n",
       "50%              0.000000  \n",
       "75%              1.000000  \n",
       "max             20.000000  "
      ]
     },
     "execution_count": 6,
     "metadata": {},
     "output_type": "execute_result"
    }
   ],
   "source": [
    "train[train.columns[1:]].describe()"
   ]
  },
  {
   "cell_type": "markdown",
   "id": "e42857db-9647-4399-abcd-f404d8b42346",
   "metadata": {},
   "source": [
    "## Duplicate Value Treatment"
   ]
  },
  {
   "cell_type": "code",
   "execution_count": 7,
   "id": "c0041742-f2a1-4f6e-93f1-a9c7b2d83b1e",
   "metadata": {},
   "outputs": [
    {
     "data": {
      "text/plain": [
       "0         False\n",
       "1         False\n",
       "2         False\n",
       "3         False\n",
       "4         False\n",
       "          ...  \n",
       "149995    False\n",
       "149996    False\n",
       "149997     True\n",
       "149998    False\n",
       "149999    False\n",
       "Length: 150000, dtype: bool"
      ]
     },
     "execution_count": 7,
     "metadata": {},
     "output_type": "execute_result"
    }
   ],
   "source": [
    "train.duplicated()#Checking if there are duplicates"
   ]
  },
  {
   "cell_type": "code",
   "execution_count": 8,
   "id": "db3b2d43-9ca7-42bd-880f-16f8610e0d04",
   "metadata": {},
   "outputs": [
    {
     "data": {
      "text/plain": [
       "np.int64(609)"
      ]
     },
     "execution_count": 8,
     "metadata": {},
     "output_type": "execute_result"
    }
   ],
   "source": [
    "train.duplicated().sum()#total number of duplicates"
   ]
  },
  {
   "cell_type": "code",
   "execution_count": 9,
   "id": "353789aa-9e04-457b-80c9-c54277059765",
   "metadata": {},
   "outputs": [
    {
     "data": {
      "text/plain": [
       "False    149391\n",
       "True        609\n",
       "Name: count, dtype: int64"
      ]
     },
     "execution_count": 9,
     "metadata": {},
     "output_type": "execute_result"
    }
   ],
   "source": [
    "train.duplicated().value_counts()#How many are not duplicates and how many are duplicates"
   ]
  },
  {
   "cell_type": "code",
   "execution_count": 10,
   "id": "41eb5349-4f7d-4692-bad5-6a0e3d363856",
   "metadata": {},
   "outputs": [],
   "source": [
    "train_nodup = train.drop_duplicates()#Deleting the duplicate records"
   ]
  },
  {
   "cell_type": "code",
   "execution_count": 11,
   "id": "312c74a4-54e3-4d17-bc07-6dab1347ef73",
   "metadata": {},
   "outputs": [
    {
     "data": {
      "text/plain": [
       "(149391, 11)"
      ]
     },
     "execution_count": 11,
     "metadata": {},
     "output_type": "execute_result"
    }
   ],
   "source": [
    "train_nodup.shape"
   ]
  },
  {
   "cell_type": "markdown",
   "id": "1027d7e8-693d-4970-a3b5-c6eaa4eab82c",
   "metadata": {},
   "source": [
    "## Null(Missing) Values Treatment"
   ]
  },
  {
   "cell_type": "code",
   "execution_count": 12,
   "id": "fb3b16bf-b1cd-4be4-bfbf-f8042e4ca6ad",
   "metadata": {},
   "outputs": [
    {
     "data": {
      "text/html": [
       "<div>\n",
       "<style scoped>\n",
       "    .dataframe tbody tr th:only-of-type {\n",
       "        vertical-align: middle;\n",
       "    }\n",
       "\n",
       "    .dataframe tbody tr th {\n",
       "        vertical-align: top;\n",
       "    }\n",
       "\n",
       "    .dataframe thead th {\n",
       "        text-align: right;\n",
       "    }\n",
       "</style>\n",
       "<table border=\"1\" class=\"dataframe\">\n",
       "  <thead>\n",
       "    <tr style=\"text-align: right;\">\n",
       "      <th></th>\n",
       "      <th>SeriousDlqin2yrs</th>\n",
       "      <th>RevolvingUtilizationOfUnsecuredLines</th>\n",
       "      <th>age</th>\n",
       "      <th>NumberOfTime30-59DaysPastDueNotWorse</th>\n",
       "      <th>DebtRatio</th>\n",
       "      <th>MonthlyIncome</th>\n",
       "      <th>NumberOfOpenCreditLinesAndLoans</th>\n",
       "      <th>NumberOfTimes90DaysLate</th>\n",
       "      <th>NumberRealEstateLoansOrLines</th>\n",
       "      <th>NumberOfTime60-89DaysPastDueNotWorse</th>\n",
       "      <th>NumberOfDependents</th>\n",
       "    </tr>\n",
       "  </thead>\n",
       "  <tbody>\n",
       "    <tr>\n",
       "      <th>0</th>\n",
       "      <td>False</td>\n",
       "      <td>False</td>\n",
       "      <td>False</td>\n",
       "      <td>False</td>\n",
       "      <td>False</td>\n",
       "      <td>False</td>\n",
       "      <td>False</td>\n",
       "      <td>False</td>\n",
       "      <td>False</td>\n",
       "      <td>False</td>\n",
       "      <td>False</td>\n",
       "    </tr>\n",
       "    <tr>\n",
       "      <th>1</th>\n",
       "      <td>False</td>\n",
       "      <td>False</td>\n",
       "      <td>False</td>\n",
       "      <td>False</td>\n",
       "      <td>False</td>\n",
       "      <td>False</td>\n",
       "      <td>False</td>\n",
       "      <td>False</td>\n",
       "      <td>False</td>\n",
       "      <td>False</td>\n",
       "      <td>False</td>\n",
       "    </tr>\n",
       "    <tr>\n",
       "      <th>2</th>\n",
       "      <td>False</td>\n",
       "      <td>False</td>\n",
       "      <td>False</td>\n",
       "      <td>False</td>\n",
       "      <td>False</td>\n",
       "      <td>False</td>\n",
       "      <td>False</td>\n",
       "      <td>False</td>\n",
       "      <td>False</td>\n",
       "      <td>False</td>\n",
       "      <td>False</td>\n",
       "    </tr>\n",
       "    <tr>\n",
       "      <th>3</th>\n",
       "      <td>False</td>\n",
       "      <td>False</td>\n",
       "      <td>False</td>\n",
       "      <td>False</td>\n",
       "      <td>False</td>\n",
       "      <td>False</td>\n",
       "      <td>False</td>\n",
       "      <td>False</td>\n",
       "      <td>False</td>\n",
       "      <td>False</td>\n",
       "      <td>False</td>\n",
       "    </tr>\n",
       "    <tr>\n",
       "      <th>4</th>\n",
       "      <td>False</td>\n",
       "      <td>False</td>\n",
       "      <td>False</td>\n",
       "      <td>False</td>\n",
       "      <td>False</td>\n",
       "      <td>False</td>\n",
       "      <td>False</td>\n",
       "      <td>False</td>\n",
       "      <td>False</td>\n",
       "      <td>False</td>\n",
       "      <td>False</td>\n",
       "    </tr>\n",
       "    <tr>\n",
       "      <th>...</th>\n",
       "      <td>...</td>\n",
       "      <td>...</td>\n",
       "      <td>...</td>\n",
       "      <td>...</td>\n",
       "      <td>...</td>\n",
       "      <td>...</td>\n",
       "      <td>...</td>\n",
       "      <td>...</td>\n",
       "      <td>...</td>\n",
       "      <td>...</td>\n",
       "      <td>...</td>\n",
       "    </tr>\n",
       "    <tr>\n",
       "      <th>149994</th>\n",
       "      <td>False</td>\n",
       "      <td>False</td>\n",
       "      <td>False</td>\n",
       "      <td>False</td>\n",
       "      <td>False</td>\n",
       "      <td>False</td>\n",
       "      <td>False</td>\n",
       "      <td>False</td>\n",
       "      <td>False</td>\n",
       "      <td>False</td>\n",
       "      <td>False</td>\n",
       "    </tr>\n",
       "    <tr>\n",
       "      <th>149995</th>\n",
       "      <td>False</td>\n",
       "      <td>False</td>\n",
       "      <td>False</td>\n",
       "      <td>False</td>\n",
       "      <td>False</td>\n",
       "      <td>False</td>\n",
       "      <td>False</td>\n",
       "      <td>False</td>\n",
       "      <td>False</td>\n",
       "      <td>False</td>\n",
       "      <td>False</td>\n",
       "    </tr>\n",
       "    <tr>\n",
       "      <th>149996</th>\n",
       "      <td>False</td>\n",
       "      <td>False</td>\n",
       "      <td>False</td>\n",
       "      <td>False</td>\n",
       "      <td>False</td>\n",
       "      <td>False</td>\n",
       "      <td>False</td>\n",
       "      <td>False</td>\n",
       "      <td>False</td>\n",
       "      <td>False</td>\n",
       "      <td>False</td>\n",
       "    </tr>\n",
       "    <tr>\n",
       "      <th>149998</th>\n",
       "      <td>False</td>\n",
       "      <td>False</td>\n",
       "      <td>False</td>\n",
       "      <td>False</td>\n",
       "      <td>False</td>\n",
       "      <td>False</td>\n",
       "      <td>False</td>\n",
       "      <td>False</td>\n",
       "      <td>False</td>\n",
       "      <td>False</td>\n",
       "      <td>False</td>\n",
       "    </tr>\n",
       "    <tr>\n",
       "      <th>149999</th>\n",
       "      <td>False</td>\n",
       "      <td>False</td>\n",
       "      <td>False</td>\n",
       "      <td>False</td>\n",
       "      <td>False</td>\n",
       "      <td>False</td>\n",
       "      <td>False</td>\n",
       "      <td>False</td>\n",
       "      <td>False</td>\n",
       "      <td>False</td>\n",
       "      <td>False</td>\n",
       "    </tr>\n",
       "  </tbody>\n",
       "</table>\n",
       "<p>149391 rows × 11 columns</p>\n",
       "</div>"
      ],
      "text/plain": [
       "        SeriousDlqin2yrs  RevolvingUtilizationOfUnsecuredLines    age  \\\n",
       "0                  False                                 False  False   \n",
       "1                  False                                 False  False   \n",
       "2                  False                                 False  False   \n",
       "3                  False                                 False  False   \n",
       "4                  False                                 False  False   \n",
       "...                  ...                                   ...    ...   \n",
       "149994             False                                 False  False   \n",
       "149995             False                                 False  False   \n",
       "149996             False                                 False  False   \n",
       "149998             False                                 False  False   \n",
       "149999             False                                 False  False   \n",
       "\n",
       "        NumberOfTime30-59DaysPastDueNotWorse  DebtRatio  MonthlyIncome  \\\n",
       "0                                      False      False          False   \n",
       "1                                      False      False          False   \n",
       "2                                      False      False          False   \n",
       "3                                      False      False          False   \n",
       "4                                      False      False          False   \n",
       "...                                      ...        ...            ...   \n",
       "149994                                 False      False          False   \n",
       "149995                                 False      False          False   \n",
       "149996                                 False      False          False   \n",
       "149998                                 False      False          False   \n",
       "149999                                 False      False          False   \n",
       "\n",
       "        NumberOfOpenCreditLinesAndLoans  NumberOfTimes90DaysLate  \\\n",
       "0                                 False                    False   \n",
       "1                                 False                    False   \n",
       "2                                 False                    False   \n",
       "3                                 False                    False   \n",
       "4                                 False                    False   \n",
       "...                                 ...                      ...   \n",
       "149994                            False                    False   \n",
       "149995                            False                    False   \n",
       "149996                            False                    False   \n",
       "149998                            False                    False   \n",
       "149999                            False                    False   \n",
       "\n",
       "        NumberRealEstateLoansOrLines  NumberOfTime60-89DaysPastDueNotWorse  \\\n",
       "0                              False                                 False   \n",
       "1                              False                                 False   \n",
       "2                              False                                 False   \n",
       "3                              False                                 False   \n",
       "4                              False                                 False   \n",
       "...                              ...                                   ...   \n",
       "149994                         False                                 False   \n",
       "149995                         False                                 False   \n",
       "149996                         False                                 False   \n",
       "149998                         False                                 False   \n",
       "149999                         False                                 False   \n",
       "\n",
       "        NumberOfDependents  \n",
       "0                    False  \n",
       "1                    False  \n",
       "2                    False  \n",
       "3                    False  \n",
       "4                    False  \n",
       "...                    ...  \n",
       "149994               False  \n",
       "149995               False  \n",
       "149996               False  \n",
       "149998               False  \n",
       "149999               False  \n",
       "\n",
       "[149391 rows x 11 columns]"
      ]
     },
     "execution_count": 12,
     "metadata": {},
     "output_type": "execute_result"
    }
   ],
   "source": [
    "train_nodup.isnull()#Checking null values"
   ]
  },
  {
   "cell_type": "code",
   "execution_count": 13,
   "id": "85e2d457-983a-47b9-9de0-34bf0c3849b4",
   "metadata": {},
   "outputs": [
    {
     "data": {
      "text/plain": [
       "SeriousDlqin2yrs                            0\n",
       "RevolvingUtilizationOfUnsecuredLines        0\n",
       "age                                         0\n",
       "NumberOfTime30-59DaysPastDueNotWorse        0\n",
       "DebtRatio                                   0\n",
       "MonthlyIncome                           29221\n",
       "NumberOfOpenCreditLinesAndLoans             0\n",
       "NumberOfTimes90DaysLate                     0\n",
       "NumberRealEstateLoansOrLines                0\n",
       "NumberOfTime60-89DaysPastDueNotWorse        0\n",
       "NumberOfDependents                       3828\n",
       "dtype: int64"
      ]
     },
     "execution_count": 13,
     "metadata": {},
     "output_type": "execute_result"
    }
   ],
   "source": [
    "train_nodup.isnull().sum()#Total number of null values in each column"
   ]
  },
  {
   "cell_type": "code",
   "execution_count": 14,
   "id": "ed2d4fe6-46b7-4c82-b2cc-69a9c47e684b",
   "metadata": {},
   "outputs": [],
   "source": [
    "#Creating a function to get percentage of null values for all columns of dataframe\n",
    "def findMissPerc(df):\n",
    "    return round(((df.isnull().sum()/df.shape[0])*100),2)"
   ]
  },
  {
   "cell_type": "code",
   "execution_count": 15,
   "id": "b2aa896b-a813-469e-a27e-f291f14a80ba",
   "metadata": {
    "scrolled": true
   },
   "outputs": [
    {
     "data": {
      "text/plain": [
       "SeriousDlqin2yrs                         0.00\n",
       "RevolvingUtilizationOfUnsecuredLines     0.00\n",
       "age                                      0.00\n",
       "NumberOfTime30-59DaysPastDueNotWorse     0.00\n",
       "DebtRatio                                0.00\n",
       "MonthlyIncome                           19.56\n",
       "NumberOfOpenCreditLinesAndLoans          0.00\n",
       "NumberOfTimes90DaysLate                  0.00\n",
       "NumberRealEstateLoansOrLines             0.00\n",
       "NumberOfTime60-89DaysPastDueNotWorse     0.00\n",
       "NumberOfDependents                       2.56\n",
       "dtype: float64"
      ]
     },
     "execution_count": 15,
     "metadata": {},
     "output_type": "execute_result"
    }
   ],
   "source": [
    "findMissPerc(train_nodup)"
   ]
  },
  {
   "cell_type": "markdown",
   "id": "436b4099-faf8-4ce4-ba20-8065430f5f59",
   "metadata": {},
   "source": [
    "#### Say 'NumberOfDependents' is family and bifurcating data as per missing and not missing dependents"
   ]
  },
  {
   "cell_type": "code",
   "execution_count": 16,
   "id": "e818e611-40ee-46a5-944b-436134b9a991",
   "metadata": {},
   "outputs": [],
   "source": [
    "fam_miss = train_nodup[train_nodup.NumberOfDependents.isnull()]\n",
    "fam_nomiss = train_nodup[train_nodup.NumberOfDependents.notnull()]"
   ]
  },
  {
   "cell_type": "code",
   "execution_count": 17,
   "id": "6a529e85-fae3-4023-acff-eeec3ab14d6c",
   "metadata": {
    "scrolled": true
   },
   "outputs": [
    {
     "data": {
      "text/html": [
       "<div>\n",
       "<style scoped>\n",
       "    .dataframe tbody tr th:only-of-type {\n",
       "        vertical-align: middle;\n",
       "    }\n",
       "\n",
       "    .dataframe tbody tr th {\n",
       "        vertical-align: top;\n",
       "    }\n",
       "\n",
       "    .dataframe thead th {\n",
       "        text-align: right;\n",
       "    }\n",
       "</style>\n",
       "<table border=\"1\" class=\"dataframe\">\n",
       "  <thead>\n",
       "    <tr style=\"text-align: right;\">\n",
       "      <th></th>\n",
       "      <th>SeriousDlqin2yrs</th>\n",
       "      <th>RevolvingUtilizationOfUnsecuredLines</th>\n",
       "      <th>age</th>\n",
       "      <th>NumberOfTime30-59DaysPastDueNotWorse</th>\n",
       "      <th>DebtRatio</th>\n",
       "      <th>MonthlyIncome</th>\n",
       "      <th>NumberOfOpenCreditLinesAndLoans</th>\n",
       "      <th>NumberOfTimes90DaysLate</th>\n",
       "      <th>NumberRealEstateLoansOrLines</th>\n",
       "      <th>NumberOfTime60-89DaysPastDueNotWorse</th>\n",
       "      <th>NumberOfDependents</th>\n",
       "    </tr>\n",
       "  </thead>\n",
       "  <tbody>\n",
       "    <tr>\n",
       "      <th>count</th>\n",
       "      <td>3828.000000</td>\n",
       "      <td>3828.000000</td>\n",
       "      <td>3828.000000</td>\n",
       "      <td>3828.000000</td>\n",
       "      <td>3828.000000</td>\n",
       "      <td>0.0</td>\n",
       "      <td>3828.000000</td>\n",
       "      <td>3828.000000</td>\n",
       "      <td>3828.000000</td>\n",
       "      <td>3828.000000</td>\n",
       "      <td>0.0</td>\n",
       "    </tr>\n",
       "    <tr>\n",
       "      <th>mean</th>\n",
       "      <td>0.046499</td>\n",
       "      <td>11.003369</td>\n",
       "      <td>59.741641</td>\n",
       "      <td>0.572623</td>\n",
       "      <td>1110.713689</td>\n",
       "      <td>NaN</td>\n",
       "      <td>5.708986</td>\n",
       "      <td>0.497126</td>\n",
       "      <td>0.605799</td>\n",
       "      <td>0.474138</td>\n",
       "      <td>NaN</td>\n",
       "    </tr>\n",
       "    <tr>\n",
       "      <th>std</th>\n",
       "      <td>0.210592</td>\n",
       "      <td>240.656436</td>\n",
       "      <td>18.345175</td>\n",
       "      <td>6.527320</td>\n",
       "      <td>4235.410634</td>\n",
       "      <td>NaN</td>\n",
       "      <td>4.086337</td>\n",
       "      <td>6.523199</td>\n",
       "      <td>0.920990</td>\n",
       "      <td>6.520343</td>\n",
       "      <td>NaN</td>\n",
       "    </tr>\n",
       "    <tr>\n",
       "      <th>min</th>\n",
       "      <td>0.000000</td>\n",
       "      <td>0.000000</td>\n",
       "      <td>21.000000</td>\n",
       "      <td>0.000000</td>\n",
       "      <td>0.000000</td>\n",
       "      <td>NaN</td>\n",
       "      <td>0.000000</td>\n",
       "      <td>0.000000</td>\n",
       "      <td>0.000000</td>\n",
       "      <td>0.000000</td>\n",
       "      <td>NaN</td>\n",
       "    </tr>\n",
       "    <tr>\n",
       "      <th>25%</th>\n",
       "      <td>0.000000</td>\n",
       "      <td>0.009228</td>\n",
       "      <td>48.000000</td>\n",
       "      <td>0.000000</td>\n",
       "      <td>25.000000</td>\n",
       "      <td>NaN</td>\n",
       "      <td>3.000000</td>\n",
       "      <td>0.000000</td>\n",
       "      <td>0.000000</td>\n",
       "      <td>0.000000</td>\n",
       "      <td>NaN</td>\n",
       "    </tr>\n",
       "    <tr>\n",
       "      <th>50%</th>\n",
       "      <td>0.000000</td>\n",
       "      <td>0.047670</td>\n",
       "      <td>61.000000</td>\n",
       "      <td>0.000000</td>\n",
       "      <td>398.000000</td>\n",
       "      <td>NaN</td>\n",
       "      <td>5.000000</td>\n",
       "      <td>0.000000</td>\n",
       "      <td>0.000000</td>\n",
       "      <td>0.000000</td>\n",
       "      <td>NaN</td>\n",
       "    </tr>\n",
       "    <tr>\n",
       "      <th>75%</th>\n",
       "      <td>0.000000</td>\n",
       "      <td>0.259028</td>\n",
       "      <td>74.000000</td>\n",
       "      <td>0.000000</td>\n",
       "      <td>1587.000000</td>\n",
       "      <td>NaN</td>\n",
       "      <td>8.000000</td>\n",
       "      <td>0.000000</td>\n",
       "      <td>1.000000</td>\n",
       "      <td>0.000000</td>\n",
       "      <td>NaN</td>\n",
       "    </tr>\n",
       "    <tr>\n",
       "      <th>max</th>\n",
       "      <td>1.000000</td>\n",
       "      <td>10821.000000</td>\n",
       "      <td>109.000000</td>\n",
       "      <td>98.000000</td>\n",
       "      <td>220516.000000</td>\n",
       "      <td>NaN</td>\n",
       "      <td>30.000000</td>\n",
       "      <td>98.000000</td>\n",
       "      <td>15.000000</td>\n",
       "      <td>98.000000</td>\n",
       "      <td>NaN</td>\n",
       "    </tr>\n",
       "  </tbody>\n",
       "</table>\n",
       "</div>"
      ],
      "text/plain": [
       "       SeriousDlqin2yrs  RevolvingUtilizationOfUnsecuredLines          age  \\\n",
       "count       3828.000000                           3828.000000  3828.000000   \n",
       "mean           0.046499                             11.003369    59.741641   \n",
       "std            0.210592                            240.656436    18.345175   \n",
       "min            0.000000                              0.000000    21.000000   \n",
       "25%            0.000000                              0.009228    48.000000   \n",
       "50%            0.000000                              0.047670    61.000000   \n",
       "75%            0.000000                              0.259028    74.000000   \n",
       "max            1.000000                          10821.000000   109.000000   \n",
       "\n",
       "       NumberOfTime30-59DaysPastDueNotWorse      DebtRatio  MonthlyIncome  \\\n",
       "count                           3828.000000    3828.000000            0.0   \n",
       "mean                               0.572623    1110.713689            NaN   \n",
       "std                                6.527320    4235.410634            NaN   \n",
       "min                                0.000000       0.000000            NaN   \n",
       "25%                                0.000000      25.000000            NaN   \n",
       "50%                                0.000000     398.000000            NaN   \n",
       "75%                                0.000000    1587.000000            NaN   \n",
       "max                               98.000000  220516.000000            NaN   \n",
       "\n",
       "       NumberOfOpenCreditLinesAndLoans  NumberOfTimes90DaysLate  \\\n",
       "count                      3828.000000              3828.000000   \n",
       "mean                          5.708986                 0.497126   \n",
       "std                           4.086337                 6.523199   \n",
       "min                           0.000000                 0.000000   \n",
       "25%                           3.000000                 0.000000   \n",
       "50%                           5.000000                 0.000000   \n",
       "75%                           8.000000                 0.000000   \n",
       "max                          30.000000                98.000000   \n",
       "\n",
       "       NumberRealEstateLoansOrLines  NumberOfTime60-89DaysPastDueNotWorse  \\\n",
       "count                   3828.000000                           3828.000000   \n",
       "mean                       0.605799                              0.474138   \n",
       "std                        0.920990                              6.520343   \n",
       "min                        0.000000                              0.000000   \n",
       "25%                        0.000000                              0.000000   \n",
       "50%                        0.000000                              0.000000   \n",
       "75%                        1.000000                              0.000000   \n",
       "max                       15.000000                             98.000000   \n",
       "\n",
       "       NumberOfDependents  \n",
       "count                 0.0  \n",
       "mean                  NaN  \n",
       "std                   NaN  \n",
       "min                   NaN  \n",
       "25%                   NaN  \n",
       "50%                   NaN  \n",
       "75%                   NaN  \n",
       "max                   NaN  "
      ]
     },
     "execution_count": 17,
     "metadata": {},
     "output_type": "execute_result"
    }
   ],
   "source": [
    "fam_miss.describe()"
   ]
  },
  {
   "cell_type": "markdown",
   "id": "2b57460b-d5f0-4a7f-903d-4c5e72950adb",
   "metadata": {},
   "source": [
    "#### In above description we can see that missing rows of dependents also have monthly income missing"
   ]
  },
  {
   "cell_type": "code",
   "execution_count": 18,
   "id": "94728209-c00b-4e35-aa12-581460f21f5b",
   "metadata": {},
   "outputs": [
    {
     "data": {
      "text/plain": [
       "(3828, 11)"
      ]
     },
     "execution_count": 18,
     "metadata": {},
     "output_type": "execute_result"
    }
   ],
   "source": [
    "fam_miss.shape"
   ]
  },
  {
   "cell_type": "code",
   "execution_count": 19,
   "id": "19e8933a-17bc-451f-bf7f-87dbfcf725f2",
   "metadata": {},
   "outputs": [
    {
     "data": {
      "text/html": [
       "<div>\n",
       "<style scoped>\n",
       "    .dataframe tbody tr th:only-of-type {\n",
       "        vertical-align: middle;\n",
       "    }\n",
       "\n",
       "    .dataframe tbody tr th {\n",
       "        vertical-align: top;\n",
       "    }\n",
       "\n",
       "    .dataframe thead th {\n",
       "        text-align: right;\n",
       "    }\n",
       "</style>\n",
       "<table border=\"1\" class=\"dataframe\">\n",
       "  <thead>\n",
       "    <tr style=\"text-align: right;\">\n",
       "      <th></th>\n",
       "      <th>SeriousDlqin2yrs</th>\n",
       "      <th>RevolvingUtilizationOfUnsecuredLines</th>\n",
       "      <th>age</th>\n",
       "      <th>NumberOfTime30-59DaysPastDueNotWorse</th>\n",
       "      <th>DebtRatio</th>\n",
       "      <th>MonthlyIncome</th>\n",
       "      <th>NumberOfOpenCreditLinesAndLoans</th>\n",
       "      <th>NumberOfTimes90DaysLate</th>\n",
       "      <th>NumberRealEstateLoansOrLines</th>\n",
       "      <th>NumberOfTime60-89DaysPastDueNotWorse</th>\n",
       "      <th>NumberOfDependents</th>\n",
       "    </tr>\n",
       "  </thead>\n",
       "  <tbody>\n",
       "    <tr>\n",
       "      <th>count</th>\n",
       "      <td>145563.000000</td>\n",
       "      <td>145563.000000</td>\n",
       "      <td>145563.000000</td>\n",
       "      <td>145563.000000</td>\n",
       "      <td>145563.000000</td>\n",
       "      <td>1.201700e+05</td>\n",
       "      <td>145563.000000</td>\n",
       "      <td>145563.000000</td>\n",
       "      <td>145563.000000</td>\n",
       "      <td>145563.000000</td>\n",
       "      <td>145563.000000</td>\n",
       "    </tr>\n",
       "    <tr>\n",
       "      <th>mean</th>\n",
       "      <td>0.067538</td>\n",
       "      <td>5.941378</td>\n",
       "      <td>52.110701</td>\n",
       "      <td>0.389185</td>\n",
       "      <td>334.548251</td>\n",
       "      <td>6.675098e+03</td>\n",
       "      <td>8.553801</td>\n",
       "      <td>0.231309</td>\n",
       "      <td>1.033388</td>\n",
       "      <td>0.205622</td>\n",
       "      <td>0.759863</td>\n",
       "    </tr>\n",
       "    <tr>\n",
       "      <th>std</th>\n",
       "      <td>0.250952</td>\n",
       "      <td>250.510835</td>\n",
       "      <td>14.567652</td>\n",
       "      <td>3.756944</td>\n",
       "      <td>1947.228209</td>\n",
       "      <td>1.438958e+04</td>\n",
       "      <td>5.141267</td>\n",
       "      <td>3.728803</td>\n",
       "      <td>1.135149</td>\n",
       "      <td>3.712455</td>\n",
       "      <td>1.116141</td>\n",
       "    </tr>\n",
       "    <tr>\n",
       "      <th>min</th>\n",
       "      <td>0.000000</td>\n",
       "      <td>0.000000</td>\n",
       "      <td>0.000000</td>\n",
       "      <td>0.000000</td>\n",
       "      <td>0.000000</td>\n",
       "      <td>0.000000e+00</td>\n",
       "      <td>0.000000</td>\n",
       "      <td>0.000000</td>\n",
       "      <td>0.000000</td>\n",
       "      <td>0.000000</td>\n",
       "      <td>0.000000</td>\n",
       "    </tr>\n",
       "    <tr>\n",
       "      <th>25%</th>\n",
       "      <td>0.000000</td>\n",
       "      <td>0.031218</td>\n",
       "      <td>41.000000</td>\n",
       "      <td>0.000000</td>\n",
       "      <td>0.173934</td>\n",
       "      <td>3.400000e+03</td>\n",
       "      <td>5.000000</td>\n",
       "      <td>0.000000</td>\n",
       "      <td>0.000000</td>\n",
       "      <td>0.000000</td>\n",
       "      <td>0.000000</td>\n",
       "    </tr>\n",
       "    <tr>\n",
       "      <th>50%</th>\n",
       "      <td>0.000000</td>\n",
       "      <td>0.158817</td>\n",
       "      <td>52.000000</td>\n",
       "      <td>0.000000</td>\n",
       "      <td>0.359090</td>\n",
       "      <td>5.400000e+03</td>\n",
       "      <td>8.000000</td>\n",
       "      <td>0.000000</td>\n",
       "      <td>1.000000</td>\n",
       "      <td>0.000000</td>\n",
       "      <td>0.000000</td>\n",
       "    </tr>\n",
       "    <tr>\n",
       "      <th>75%</th>\n",
       "      <td>0.000000</td>\n",
       "      <td>0.561085</td>\n",
       "      <td>62.000000</td>\n",
       "      <td>0.000000</td>\n",
       "      <td>0.770641</td>\n",
       "      <td>8.250000e+03</td>\n",
       "      <td>11.000000</td>\n",
       "      <td>0.000000</td>\n",
       "      <td>2.000000</td>\n",
       "      <td>0.000000</td>\n",
       "      <td>1.000000</td>\n",
       "    </tr>\n",
       "    <tr>\n",
       "      <th>max</th>\n",
       "      <td>1.000000</td>\n",
       "      <td>50708.000000</td>\n",
       "      <td>107.000000</td>\n",
       "      <td>98.000000</td>\n",
       "      <td>329664.000000</td>\n",
       "      <td>3.008750e+06</td>\n",
       "      <td>60.000000</td>\n",
       "      <td>98.000000</td>\n",
       "      <td>60.000000</td>\n",
       "      <td>98.000000</td>\n",
       "      <td>20.000000</td>\n",
       "    </tr>\n",
       "  </tbody>\n",
       "</table>\n",
       "</div>"
      ],
      "text/plain": [
       "       SeriousDlqin2yrs  RevolvingUtilizationOfUnsecuredLines            age  \\\n",
       "count     145563.000000                         145563.000000  145563.000000   \n",
       "mean           0.067538                              5.941378      52.110701   \n",
       "std            0.250952                            250.510835      14.567652   \n",
       "min            0.000000                              0.000000       0.000000   \n",
       "25%            0.000000                              0.031218      41.000000   \n",
       "50%            0.000000                              0.158817      52.000000   \n",
       "75%            0.000000                              0.561085      62.000000   \n",
       "max            1.000000                          50708.000000     107.000000   \n",
       "\n",
       "       NumberOfTime30-59DaysPastDueNotWorse      DebtRatio  MonthlyIncome  \\\n",
       "count                         145563.000000  145563.000000   1.201700e+05   \n",
       "mean                               0.389185     334.548251   6.675098e+03   \n",
       "std                                3.756944    1947.228209   1.438958e+04   \n",
       "min                                0.000000       0.000000   0.000000e+00   \n",
       "25%                                0.000000       0.173934   3.400000e+03   \n",
       "50%                                0.000000       0.359090   5.400000e+03   \n",
       "75%                                0.000000       0.770641   8.250000e+03   \n",
       "max                               98.000000  329664.000000   3.008750e+06   \n",
       "\n",
       "       NumberOfOpenCreditLinesAndLoans  NumberOfTimes90DaysLate  \\\n",
       "count                    145563.000000            145563.000000   \n",
       "mean                          8.553801                 0.231309   \n",
       "std                           5.141267                 3.728803   \n",
       "min                           0.000000                 0.000000   \n",
       "25%                           5.000000                 0.000000   \n",
       "50%                           8.000000                 0.000000   \n",
       "75%                          11.000000                 0.000000   \n",
       "max                          60.000000                98.000000   \n",
       "\n",
       "       NumberRealEstateLoansOrLines  NumberOfTime60-89DaysPastDueNotWorse  \\\n",
       "count                 145563.000000                         145563.000000   \n",
       "mean                       1.033388                              0.205622   \n",
       "std                        1.135149                              3.712455   \n",
       "min                        0.000000                              0.000000   \n",
       "25%                        0.000000                              0.000000   \n",
       "50%                        1.000000                              0.000000   \n",
       "75%                        2.000000                              0.000000   \n",
       "max                       60.000000                             98.000000   \n",
       "\n",
       "       NumberOfDependents  \n",
       "count       145563.000000  \n",
       "mean             0.759863  \n",
       "std              1.116141  \n",
       "min              0.000000  \n",
       "25%              0.000000  \n",
       "50%              0.000000  \n",
       "75%              1.000000  \n",
       "max             20.000000  "
      ]
     },
     "execution_count": 19,
     "metadata": {},
     "output_type": "execute_result"
    }
   ],
   "source": [
    "fam_nomiss.describe()"
   ]
  },
  {
   "cell_type": "code",
   "execution_count": 20,
   "id": "5180a4e7-6468-4b04-a6a1-c9020fd2afc1",
   "metadata": {},
   "outputs": [
    {
     "data": {
      "text/plain": [
       "(145563, 11)"
      ]
     },
     "execution_count": 20,
     "metadata": {},
     "output_type": "execute_result"
    }
   ],
   "source": [
    "fam_nomiss.shape"
   ]
  },
  {
   "cell_type": "markdown",
   "id": "899344c7-0976-47a7-9318-601178b8b274",
   "metadata": {},
   "source": [
    "#### But there exists missing values of monthly income where dependents are not missing"
   ]
  },
  {
   "cell_type": "code",
   "execution_count": 21,
   "id": "0f774cb9-f6ca-4ed3-acb7-26a097250201",
   "metadata": {},
   "outputs": [
    {
     "data": {
      "text/html": [
       "<div>\n",
       "<style scoped>\n",
       "    .dataframe tbody tr th:only-of-type {\n",
       "        vertical-align: middle;\n",
       "    }\n",
       "\n",
       "    .dataframe tbody tr th {\n",
       "        vertical-align: top;\n",
       "    }\n",
       "\n",
       "    .dataframe thead th {\n",
       "        text-align: right;\n",
       "    }\n",
       "</style>\n",
       "<table border=\"1\" class=\"dataframe\">\n",
       "  <thead>\n",
       "    <tr style=\"text-align: right;\">\n",
       "      <th></th>\n",
       "      <th>SeriousDlqin2yrs</th>\n",
       "      <th>RevolvingUtilizationOfUnsecuredLines</th>\n",
       "      <th>age</th>\n",
       "      <th>NumberOfTime30-59DaysPastDueNotWorse</th>\n",
       "      <th>DebtRatio</th>\n",
       "      <th>MonthlyIncome</th>\n",
       "      <th>NumberOfOpenCreditLinesAndLoans</th>\n",
       "      <th>NumberOfTimes90DaysLate</th>\n",
       "      <th>NumberRealEstateLoansOrLines</th>\n",
       "      <th>NumberOfTime60-89DaysPastDueNotWorse</th>\n",
       "      <th>NumberOfDependents</th>\n",
       "    </tr>\n",
       "  </thead>\n",
       "  <tbody>\n",
       "    <tr>\n",
       "      <th>count</th>\n",
       "      <td>25393.000000</td>\n",
       "      <td>25393.000000</td>\n",
       "      <td>25393.000000</td>\n",
       "      <td>25393.000000</td>\n",
       "      <td>25393.000000</td>\n",
       "      <td>0.0</td>\n",
       "      <td>25393.000000</td>\n",
       "      <td>25393.000000</td>\n",
       "      <td>25393.000000</td>\n",
       "      <td>25393.000000</td>\n",
       "      <td>25393.000000</td>\n",
       "    </tr>\n",
       "    <tr>\n",
       "      <th>mean</th>\n",
       "      <td>0.058126</td>\n",
       "      <td>6.116924</td>\n",
       "      <td>55.890639</td>\n",
       "      <td>0.434372</td>\n",
       "      <td>1791.786713</td>\n",
       "      <td>NaN</td>\n",
       "      <td>7.556177</td>\n",
       "      <td>0.333832</td>\n",
       "      <td>0.929036</td>\n",
       "      <td>0.300673</td>\n",
       "      <td>0.321309</td>\n",
       "    </tr>\n",
       "    <tr>\n",
       "      <th>std</th>\n",
       "      <td>0.233987</td>\n",
       "      <td>216.369668</td>\n",
       "      <td>14.714024</td>\n",
       "      <td>4.903186</td>\n",
       "      <td>4279.088509</td>\n",
       "      <td>NaN</td>\n",
       "      <td>4.877719</td>\n",
       "      <td>4.893579</td>\n",
       "      <td>1.046646</td>\n",
       "      <td>4.880670</td>\n",
       "      <td>0.815421</td>\n",
       "    </tr>\n",
       "    <tr>\n",
       "      <th>min</th>\n",
       "      <td>0.000000</td>\n",
       "      <td>0.000000</td>\n",
       "      <td>21.000000</td>\n",
       "      <td>0.000000</td>\n",
       "      <td>0.000000</td>\n",
       "      <td>NaN</td>\n",
       "      <td>0.000000</td>\n",
       "      <td>0.000000</td>\n",
       "      <td>0.000000</td>\n",
       "      <td>0.000000</td>\n",
       "      <td>0.000000</td>\n",
       "    </tr>\n",
       "    <tr>\n",
       "      <th>25%</th>\n",
       "      <td>0.000000</td>\n",
       "      <td>0.018514</td>\n",
       "      <td>45.000000</td>\n",
       "      <td>0.000000</td>\n",
       "      <td>253.000000</td>\n",
       "      <td>NaN</td>\n",
       "      <td>4.000000</td>\n",
       "      <td>0.000000</td>\n",
       "      <td>0.000000</td>\n",
       "      <td>0.000000</td>\n",
       "      <td>0.000000</td>\n",
       "    </tr>\n",
       "    <tr>\n",
       "      <th>50%</th>\n",
       "      <td>0.000000</td>\n",
       "      <td>0.089364</td>\n",
       "      <td>56.000000</td>\n",
       "      <td>0.000000</td>\n",
       "      <td>1311.000000</td>\n",
       "      <td>NaN</td>\n",
       "      <td>7.000000</td>\n",
       "      <td>0.000000</td>\n",
       "      <td>1.000000</td>\n",
       "      <td>0.000000</td>\n",
       "      <td>0.000000</td>\n",
       "    </tr>\n",
       "    <tr>\n",
       "      <th>75%</th>\n",
       "      <td>0.000000</td>\n",
       "      <td>0.448911</td>\n",
       "      <td>66.000000</td>\n",
       "      <td>0.000000</td>\n",
       "      <td>2507.000000</td>\n",
       "      <td>NaN</td>\n",
       "      <td>10.000000</td>\n",
       "      <td>0.000000</td>\n",
       "      <td>1.000000</td>\n",
       "      <td>0.000000</td>\n",
       "      <td>0.000000</td>\n",
       "    </tr>\n",
       "    <tr>\n",
       "      <th>max</th>\n",
       "      <td>1.000000</td>\n",
       "      <td>22198.000000</td>\n",
       "      <td>107.000000</td>\n",
       "      <td>98.000000</td>\n",
       "      <td>329664.000000</td>\n",
       "      <td>NaN</td>\n",
       "      <td>45.000000</td>\n",
       "      <td>98.000000</td>\n",
       "      <td>23.000000</td>\n",
       "      <td>98.000000</td>\n",
       "      <td>9.000000</td>\n",
       "    </tr>\n",
       "  </tbody>\n",
       "</table>\n",
       "</div>"
      ],
      "text/plain": [
       "       SeriousDlqin2yrs  RevolvingUtilizationOfUnsecuredLines           age  \\\n",
       "count      25393.000000                          25393.000000  25393.000000   \n",
       "mean           0.058126                              6.116924     55.890639   \n",
       "std            0.233987                            216.369668     14.714024   \n",
       "min            0.000000                              0.000000     21.000000   \n",
       "25%            0.000000                              0.018514     45.000000   \n",
       "50%            0.000000                              0.089364     56.000000   \n",
       "75%            0.000000                              0.448911     66.000000   \n",
       "max            1.000000                          22198.000000    107.000000   \n",
       "\n",
       "       NumberOfTime30-59DaysPastDueNotWorse      DebtRatio  MonthlyIncome  \\\n",
       "count                          25393.000000   25393.000000            0.0   \n",
       "mean                               0.434372    1791.786713            NaN   \n",
       "std                                4.903186    4279.088509            NaN   \n",
       "min                                0.000000       0.000000            NaN   \n",
       "25%                                0.000000     253.000000            NaN   \n",
       "50%                                0.000000    1311.000000            NaN   \n",
       "75%                                0.000000    2507.000000            NaN   \n",
       "max                               98.000000  329664.000000            NaN   \n",
       "\n",
       "       NumberOfOpenCreditLinesAndLoans  NumberOfTimes90DaysLate  \\\n",
       "count                     25393.000000             25393.000000   \n",
       "mean                          7.556177                 0.333832   \n",
       "std                           4.877719                 4.893579   \n",
       "min                           0.000000                 0.000000   \n",
       "25%                           4.000000                 0.000000   \n",
       "50%                           7.000000                 0.000000   \n",
       "75%                          10.000000                 0.000000   \n",
       "max                          45.000000                98.000000   \n",
       "\n",
       "       NumberRealEstateLoansOrLines  NumberOfTime60-89DaysPastDueNotWorse  \\\n",
       "count                  25393.000000                          25393.000000   \n",
       "mean                       0.929036                              0.300673   \n",
       "std                        1.046646                              4.880670   \n",
       "min                        0.000000                              0.000000   \n",
       "25%                        0.000000                              0.000000   \n",
       "50%                        1.000000                              0.000000   \n",
       "75%                        1.000000                              0.000000   \n",
       "max                       23.000000                             98.000000   \n",
       "\n",
       "       NumberOfDependents  \n",
       "count        25393.000000  \n",
       "mean             0.321309  \n",
       "std              0.815421  \n",
       "min              0.000000  \n",
       "25%              0.000000  \n",
       "50%              0.000000  \n",
       "75%              0.000000  \n",
       "max              9.000000  "
      ]
     },
     "execution_count": 21,
     "metadata": {},
     "output_type": "execute_result"
    }
   ],
   "source": [
    "df_fam_notMiss_but_income_missing = train_nodup[train_nodup.NumberOfDependents.notnull() & train_nodup.MonthlyIncome.isnull()]\n",
    "df_fam_notMiss_but_income_missing.describe()"
   ]
  },
  {
   "cell_type": "code",
   "execution_count": 22,
   "id": "c739bddb-5e14-4772-9e7f-a7c783801ce6",
   "metadata": {},
   "outputs": [
    {
     "data": {
      "text/plain": [
       "(25393, 11)"
      ]
     },
     "execution_count": 22,
     "metadata": {},
     "output_type": "execute_result"
    }
   ],
   "source": [
    "df_fam_notMiss_but_income_missing.shape"
   ]
  },
  {
   "cell_type": "code",
   "execution_count": 23,
   "id": "491fb590-02f5-437f-a89f-5e5f6ae2673f",
   "metadata": {},
   "outputs": [
    {
     "data": {
      "text/plain": [
       "SeriousDlqin2yrs                         0.00\n",
       "RevolvingUtilizationOfUnsecuredLines     0.00\n",
       "age                                      0.00\n",
       "NumberOfTime30-59DaysPastDueNotWorse     0.00\n",
       "DebtRatio                                0.00\n",
       "MonthlyIncome                           17.44\n",
       "NumberOfOpenCreditLinesAndLoans          0.00\n",
       "NumberOfTimes90DaysLate                  0.00\n",
       "NumberRealEstateLoansOrLines             0.00\n",
       "NumberOfTime60-89DaysPastDueNotWorse     0.00\n",
       "NumberOfDependents                       0.00\n",
       "dtype: float64"
      ]
     },
     "execution_count": 23,
     "metadata": {},
     "output_type": "execute_result"
    }
   ],
   "source": [
    "findMissPerc(fam_nomiss)"
   ]
  },
  {
   "cell_type": "markdown",
   "id": "07fce1ac-4942-4f89-8136-11c64b740d3a",
   "metadata": {},
   "source": [
    "#### Creating functions for number of records in each group in a column, and percent weight of each group in that column\n"
   ]
  },
  {
   "cell_type": "code",
   "execution_count": 24,
   "id": "95e064b5-1a3f-43ae-8cdb-99a4ea8c0462",
   "metadata": {},
   "outputs": [],
   "source": [
    "def GroupByPerc(df,column):\n",
    "    return df.groupby(column).size()/len(df)*100\n",
    "\n",
    "def GroupBy(df,column):\n",
    "    return df.groupby(column).size()"
   ]
  },
  {
   "cell_type": "markdown",
   "id": "f8a59b8e-d45f-44ff-88c3-a07bd03e35f5",
   "metadata": {},
   "source": [
    "#### Dealing with rows which have number of dependents missing "
   ]
  },
  {
   "cell_type": "code",
   "execution_count": 25,
   "id": "66b8276a-8a83-4016-85ba-cd6a17f1e171",
   "metadata": {
    "scrolled": true
   },
   "outputs": [
    {
     "data": {
      "text/html": [
       "<div>\n",
       "<style scoped>\n",
       "    .dataframe tbody tr th:only-of-type {\n",
       "        vertical-align: middle;\n",
       "    }\n",
       "\n",
       "    .dataframe tbody tr th {\n",
       "        vertical-align: top;\n",
       "    }\n",
       "\n",
       "    .dataframe thead th {\n",
       "        text-align: right;\n",
       "    }\n",
       "</style>\n",
       "<table border=\"1\" class=\"dataframe\">\n",
       "  <thead>\n",
       "    <tr style=\"text-align: right;\">\n",
       "      <th></th>\n",
       "      <th>mode</th>\n",
       "    </tr>\n",
       "  </thead>\n",
       "  <tbody>\n",
       "    <tr>\n",
       "      <th>0</th>\n",
       "      <td>0.0</td>\n",
       "    </tr>\n",
       "  </tbody>\n",
       "</table>\n",
       "</div>"
      ],
      "text/plain": [
       "   mode\n",
       "0   0.0"
      ]
     },
     "execution_count": 25,
     "metadata": {},
     "output_type": "execute_result"
    }
   ],
   "source": [
    "train_nodup['NumberOfDependents'].agg(['mode'])"
   ]
  },
  {
   "cell_type": "code",
   "execution_count": 26,
   "id": "d5090c6b-6fce-4228-aa11-44be4df40b8a",
   "metadata": {
    "scrolled": true
   },
   "outputs": [
    {
     "data": {
      "text/plain": [
       "NumberOfDependents\n",
       "0.0     86392\n",
       "1.0     26314\n",
       "2.0     19521\n",
       "3.0      9483\n",
       "4.0      2862\n",
       "5.0       746\n",
       "6.0       158\n",
       "7.0        51\n",
       "8.0        24\n",
       "9.0         5\n",
       "10.0        5\n",
       "13.0        1\n",
       "20.0        1\n",
       "dtype: int64"
      ]
     },
     "execution_count": 26,
     "metadata": {},
     "output_type": "execute_result"
    }
   ],
   "source": [
    "GroupBy(train_nodup,train_nodup['NumberOfDependents'])#Grouping using function defined above\n",
    "#It will not include the missing values"
   ]
  },
  {
   "cell_type": "code",
   "execution_count": 27,
   "id": "5debf8f1-6976-45bd-aa90-829675356c2d",
   "metadata": {},
   "outputs": [
    {
     "name": "stdout",
     "output_type": "stream",
     "text": [
      "Total no. of records in above groups: \n",
      "145563\n",
      "Total no. of records in the column: \n",
      "149391\n",
      "Hence missing no. of records = 3828\n"
     ]
    }
   ],
   "source": [
    "#proof that above groups for the column 'Number of dependents' does not include missing values\n",
    "print(f\"Total no. of records in above groups: \\n{GroupBy(train_nodup,train_nodup['NumberOfDependents']).sum()}\")\n",
    "print(f\"Total no. of records in the column: \\n{len(train_nodup['NumberOfDependents'])}\")\n",
    "print(f\"Hence missing no. of records = {len(train_nodup['NumberOfDependents']) - GroupBy(train_nodup,train_nodup['NumberOfDependents']).sum()}\")"
   ]
  },
  {
   "cell_type": "markdown",
   "id": "5757a41d-8b28-431b-989f-e314f0ac3650",
   "metadata": {},
   "source": [
    "#### As we have seen earlier all missing values of dependents implied monthly income is also missing. Hence filling Number of dependents in these rows as 0(mode of the variable) and leaving the monthly income values to be populated later\n"
   ]
  },
  {
   "cell_type": "code",
   "execution_count": 28,
   "id": "1e252c24-5914-4359-ab97-14a1a7fe5a50",
   "metadata": {},
   "outputs": [
    {
     "name": "stderr",
     "output_type": "stream",
     "text": [
      "C:\\Users\\nakul\\AppData\\Local\\Temp\\ipykernel_6316\\3489319309.py:1: SettingWithCopyWarning: \n",
      "A value is trying to be set on a copy of a slice from a DataFrame.\n",
      "Try using .loc[row_indexer,col_indexer] = value instead\n",
      "\n",
      "See the caveats in the documentation: https://pandas.pydata.org/pandas-docs/stable/user_guide/indexing.html#returning-a-view-versus-a-copy\n",
      "  fam_miss['NumberOfDependents'] = fam_miss['NumberOfDependents'].fillna(0)\n"
     ]
    }
   ],
   "source": [
    "fam_miss['NumberOfDependents'] = fam_miss['NumberOfDependents'].fillna(0)"
   ]
  },
  {
   "cell_type": "code",
   "execution_count": 29,
   "id": "73f73647-c55c-4f68-b206-324ca651f178",
   "metadata": {},
   "outputs": [
    {
     "data": {
      "text/plain": [
       "SeriousDlqin2yrs                          0.0\n",
       "RevolvingUtilizationOfUnsecuredLines      0.0\n",
       "age                                       0.0\n",
       "NumberOfTime30-59DaysPastDueNotWorse      0.0\n",
       "DebtRatio                                 0.0\n",
       "MonthlyIncome                           100.0\n",
       "NumberOfOpenCreditLinesAndLoans           0.0\n",
       "NumberOfTimes90DaysLate                   0.0\n",
       "NumberRealEstateLoansOrLines              0.0\n",
       "NumberOfTime60-89DaysPastDueNotWorse      0.0\n",
       "NumberOfDependents                        0.0\n",
       "dtype: float64"
      ]
     },
     "execution_count": 29,
     "metadata": {},
     "output_type": "execute_result"
    }
   ],
   "source": [
    "findMissPerc(fam_miss)"
   ]
  },
  {
   "cell_type": "markdown",
   "id": "87dd24be-4b63-47d9-81f3-e196d871f1bc",
   "metadata": {},
   "source": [
    "#### No missing values of number of dependents now but Monthly incomes missing here(to be filled later). Additionally in the 2nd of the bifurcated dataframe of 'dependents not missing but income missing'"
   ]
  },
  {
   "cell_type": "code",
   "execution_count": 30,
   "id": "bfda774c-d809-46c3-a316-6a4f31a2a61e",
   "metadata": {},
   "outputs": [
    {
     "data": {
      "text/plain": [
       "SeriousDlqin2yrs                         0.00\n",
       "RevolvingUtilizationOfUnsecuredLines     0.00\n",
       "age                                      0.00\n",
       "NumberOfTime30-59DaysPastDueNotWorse     0.00\n",
       "DebtRatio                                0.00\n",
       "MonthlyIncome                           17.44\n",
       "NumberOfOpenCreditLinesAndLoans          0.00\n",
       "NumberOfTimes90DaysLate                  0.00\n",
       "NumberRealEstateLoansOrLines             0.00\n",
       "NumberOfTime60-89DaysPastDueNotWorse     0.00\n",
       "NumberOfDependents                       0.00\n",
       "dtype: float64"
      ]
     },
     "execution_count": 30,
     "metadata": {},
     "output_type": "execute_result"
    }
   ],
   "source": [
    "findMissPerc(fam_nomiss)"
   ]
  },
  {
   "cell_type": "code",
   "execution_count": 31,
   "id": "0472b2e9-5388-4740-9721-fd1df9c7e09a",
   "metadata": {},
   "outputs": [
    {
     "data": {
      "text/plain": [
       "mean      6.675098e+03\n",
       "median    5.400000e+03\n",
       "min       0.000000e+00\n",
       "max       3.008750e+06\n",
       "Name: MonthlyIncome, dtype: float64"
      ]
     },
     "execution_count": 31,
     "metadata": {},
     "output_type": "execute_result"
    }
   ],
   "source": [
    "fam_nomiss['MonthlyIncome'].agg(['mean','median','min','max'])"
   ]
  },
  {
   "cell_type": "markdown",
   "id": "5b12e2ad-0968-4520-a09c-ec542646abb3",
   "metadata": {},
   "source": [
    "#### As the income value has a very wide range, converting all values of income into a freuency distribution table. It will give a suitable interval to choose the approximate value to fill missing values in monthly income column \n"
   ]
  },
  {
   "cell_type": "code",
   "execution_count": 32,
   "id": "d70abc88-0de9-42d8-bb12-1d519277daf2",
   "metadata": {},
   "outputs": [
    {
     "name": "stderr",
     "output_type": "stream",
     "text": [
      "C:\\Users\\nakul\\AppData\\Local\\Temp\\ipykernel_6316\\1615344529.py:1: SettingWithCopyWarning: \n",
      "A value is trying to be set on a copy of a slice from a DataFrame.\n",
      "Try using .loc[row_indexer,col_indexer] = value instead\n",
      "\n",
      "See the caveats in the documentation: https://pandas.pydata.org/pandas-docs/stable/user_guide/indexing.html#returning-a-view-versus-a-copy\n",
      "  fam_nomiss['bins'] = pd.cut(fam_nomiss['MonthlyIncome'], bins=50)\n"
     ]
    },
    {
     "data": {
      "text/plain": [
       "bins\n",
       "(-3008.75, 60175.0]       119950\n",
       "(60175.0, 120350.0]          165\n",
       "(120350.0, 180525.0]          25\n",
       "(180525.0, 240700.0]           8\n",
       "(240700.0, 300875.0]           5\n",
       "(300875.0, 361050.0]           2\n",
       "(361050.0, 421225.0]           1\n",
       "(421225.0, 481400.0]           2\n",
       "(481400.0, 541575.0]           0\n",
       "(541575.0, 601750.0]           2\n",
       "(601750.0, 661925.0]           2\n",
       "(661925.0, 722100.0]           2\n",
       "(722100.0, 782275.0]           1\n",
       "(782275.0, 842450.0]           1\n",
       "(842450.0, 902625.0]           0\n",
       "(902625.0, 962800.0]           0\n",
       "(962800.0, 1022975.0]          0\n",
       "(1022975.0, 1083150.0]         1\n",
       "(1083150.0, 1143325.0]         0\n",
       "(1143325.0, 1203500.0]         0\n",
       "(1203500.0, 1263675.0]         0\n",
       "(1263675.0, 1323850.0]         0\n",
       "(1323850.0, 1384025.0]         0\n",
       "(1384025.0, 1444200.0]         0\n",
       "(1444200.0, 1504375.0]         0\n",
       "(1504375.0, 1564550.0]         1\n",
       "(1564550.0, 1624725.0]         0\n",
       "(1624725.0, 1684900.0]         0\n",
       "(1684900.0, 1745075.0]         0\n",
       "(1745075.0, 1805250.0]         1\n",
       "(1805250.0, 1865425.0]         0\n",
       "(1865425.0, 1925600.0]         0\n",
       "(1925600.0, 1985775.0]         0\n",
       "(1985775.0, 2045950.0]         0\n",
       "(2045950.0, 2106125.0]         0\n",
       "(2106125.0, 2166300.0]         0\n",
       "(2166300.0, 2226475.0]         0\n",
       "(2226475.0, 2286650.0]         0\n",
       "(2286650.0, 2346825.0]         0\n",
       "(2346825.0, 2407000.0]         0\n",
       "(2407000.0, 2467175.0]         0\n",
       "(2467175.0, 2527350.0]         0\n",
       "(2527350.0, 2587525.0]         0\n",
       "(2587525.0, 2647700.0]         0\n",
       "(2647700.0, 2707875.0]         0\n",
       "(2707875.0, 2768050.0]         0\n",
       "(2768050.0, 2828225.0]         0\n",
       "(2828225.0, 2888400.0]         0\n",
       "(2888400.0, 2948575.0]         0\n",
       "(2948575.0, 3008750.0]         1\n",
       "Name: count, dtype: int64"
      ]
     },
     "execution_count": 32,
     "metadata": {},
     "output_type": "execute_result"
    }
   ],
   "source": [
    "fam_nomiss['bins'] = pd.cut(fam_nomiss['MonthlyIncome'], bins=50)\n",
    "frequency_distribution_equal_width = fam_nomiss['bins'].value_counts().sort_index()\n",
    "frequency_distribution_equal_width"
   ]
  },
  {
   "cell_type": "markdown",
   "id": "0c425dc2-24e3-49da-9845-57ddce1fec8d",
   "metadata": {},
   "source": [
    "#### As most of the values are on the lower side, hence choosing median in place of missing values and dropping the extra column - 'bins' created above\n"
   ]
  },
  {
   "cell_type": "code",
   "execution_count": 33,
   "id": "e2160b27-ff37-45fd-ba47-02e63e21fc50",
   "metadata": {},
   "outputs": [
    {
     "name": "stderr",
     "output_type": "stream",
     "text": [
      "C:\\Users\\nakul\\AppData\\Local\\Temp\\ipykernel_6316\\2931653688.py:1: SettingWithCopyWarning: \n",
      "A value is trying to be set on a copy of a slice from a DataFrame.\n",
      "Try using .loc[row_indexer,col_indexer] = value instead\n",
      "\n",
      "See the caveats in the documentation: https://pandas.pydata.org/pandas-docs/stable/user_guide/indexing.html#returning-a-view-versus-a-copy\n",
      "  fam_nomiss['MonthlyIncome'] = fam_nomiss['MonthlyIncome'].fillna(fam_nomiss['MonthlyIncome'].median())\n"
     ]
    }
   ],
   "source": [
    "fam_nomiss['MonthlyIncome'] = fam_nomiss['MonthlyIncome'].fillna(fam_nomiss['MonthlyIncome'].median())\n",
    "fam_nomiss = fam_nomiss.drop('bins', axis=1)"
   ]
  },
  {
   "cell_type": "markdown",
   "id": "e2e1fad3-86d0-4b8e-9f3b-02ce7b3a4be2",
   "metadata": {},
   "source": [
    "#### Populating the missing values of incomes in the first of the bifurcated data frame where missing number of dependents were populated by its mode = 0"
   ]
  },
  {
   "cell_type": "code",
   "execution_count": 34,
   "id": "01fcd37f-ea88-4337-9feb-a03640f914a9",
   "metadata": {},
   "outputs": [
    {
     "name": "stderr",
     "output_type": "stream",
     "text": [
      "C:\\Users\\nakul\\AppData\\Local\\Temp\\ipykernel_6316\\2817937159.py:1: SettingWithCopyWarning: \n",
      "A value is trying to be set on a copy of a slice from a DataFrame.\n",
      "Try using .loc[row_indexer,col_indexer] = value instead\n",
      "\n",
      "See the caveats in the documentation: https://pandas.pydata.org/pandas-docs/stable/user_guide/indexing.html#returning-a-view-versus-a-copy\n",
      "  fam_miss['MonthlyIncome'] = fam_miss['MonthlyIncome'].fillna(fam_nomiss['MonthlyIncome'].median())\n"
     ]
    }
   ],
   "source": [
    "fam_miss['MonthlyIncome'] = fam_miss['MonthlyIncome'].fillna(fam_nomiss['MonthlyIncome'].median())"
   ]
  },
  {
   "cell_type": "code",
   "execution_count": 35,
   "id": "126048f3-dd0e-4518-a188-cad72cdfa208",
   "metadata": {},
   "outputs": [
    {
     "data": {
      "text/plain": [
       "SeriousDlqin2yrs                        0.0\n",
       "RevolvingUtilizationOfUnsecuredLines    0.0\n",
       "age                                     0.0\n",
       "NumberOfTime30-59DaysPastDueNotWorse    0.0\n",
       "DebtRatio                               0.0\n",
       "MonthlyIncome                           0.0\n",
       "NumberOfOpenCreditLinesAndLoans         0.0\n",
       "NumberOfTimes90DaysLate                 0.0\n",
       "NumberRealEstateLoansOrLines            0.0\n",
       "NumberOfTime60-89DaysPastDueNotWorse    0.0\n",
       "NumberOfDependents                      0.0\n",
       "dtype: float64"
      ]
     },
     "execution_count": 35,
     "metadata": {},
     "output_type": "execute_result"
    }
   ],
   "source": [
    "findMissPerc(fam_nomiss)"
   ]
  },
  {
   "cell_type": "code",
   "execution_count": 36,
   "id": "0d37b2d6-898e-45d0-9105-f8bbdc2aaa50",
   "metadata": {},
   "outputs": [
    {
     "data": {
      "text/plain": [
       "SeriousDlqin2yrs                        0.0\n",
       "RevolvingUtilizationOfUnsecuredLines    0.0\n",
       "age                                     0.0\n",
       "NumberOfTime30-59DaysPastDueNotWorse    0.0\n",
       "DebtRatio                               0.0\n",
       "MonthlyIncome                           0.0\n",
       "NumberOfOpenCreditLinesAndLoans         0.0\n",
       "NumberOfTimes90DaysLate                 0.0\n",
       "NumberRealEstateLoansOrLines            0.0\n",
       "NumberOfTime60-89DaysPastDueNotWorse    0.0\n",
       "NumberOfDependents                      0.0\n",
       "dtype: float64"
      ]
     },
     "execution_count": 36,
     "metadata": {},
     "output_type": "execute_result"
    }
   ],
   "source": [
    "findMissPerc(fam_miss)"
   ]
  },
  {
   "cell_type": "markdown",
   "id": "5e00589d-603d-462c-a92d-5ce692eeec0c",
   "metadata": {},
   "source": [
    "#### No more missing values, now appending the earlier bifurcated data frame"
   ]
  },
  {
   "cell_type": "code",
   "execution_count": 37,
   "id": "0e3fab45-4d0b-4b6b-a1e0-84c5848a6b61",
   "metadata": {},
   "outputs": [],
   "source": [
    "filled_train = pd.concat([fam_nomiss,fam_miss])"
   ]
  },
  {
   "cell_type": "code",
   "execution_count": 38,
   "id": "426428f0-ceda-4b76-a44e-103a999a6a59",
   "metadata": {},
   "outputs": [
    {
     "data": {
      "text/plain": [
       "SeriousDlqin2yrs                        0.0\n",
       "RevolvingUtilizationOfUnsecuredLines    0.0\n",
       "age                                     0.0\n",
       "NumberOfTime30-59DaysPastDueNotWorse    0.0\n",
       "DebtRatio                               0.0\n",
       "MonthlyIncome                           0.0\n",
       "NumberOfOpenCreditLinesAndLoans         0.0\n",
       "NumberOfTimes90DaysLate                 0.0\n",
       "NumberRealEstateLoansOrLines            0.0\n",
       "NumberOfTime60-89DaysPastDueNotWorse    0.0\n",
       "NumberOfDependents                      0.0\n",
       "dtype: float64"
      ]
     },
     "execution_count": 38,
     "metadata": {},
     "output_type": "execute_result"
    }
   ],
   "source": [
    "findMissPerc(filled_train)"
   ]
  },
  {
   "cell_type": "code",
   "execution_count": 39,
   "id": "0e7bc9bc-5e44-4191-9383-abb27987dcc8",
   "metadata": {},
   "outputs": [
    {
     "data": {
      "text/html": [
       "<div>\n",
       "<style scoped>\n",
       "    .dataframe tbody tr th:only-of-type {\n",
       "        vertical-align: middle;\n",
       "    }\n",
       "\n",
       "    .dataframe tbody tr th {\n",
       "        vertical-align: top;\n",
       "    }\n",
       "\n",
       "    .dataframe thead th {\n",
       "        text-align: right;\n",
       "    }\n",
       "</style>\n",
       "<table border=\"1\" class=\"dataframe\">\n",
       "  <thead>\n",
       "    <tr style=\"text-align: right;\">\n",
       "      <th></th>\n",
       "      <th>SeriousDlqin2yrs</th>\n",
       "      <th>RevolvingUtilizationOfUnsecuredLines</th>\n",
       "      <th>age</th>\n",
       "      <th>NumberOfTime30-59DaysPastDueNotWorse</th>\n",
       "      <th>DebtRatio</th>\n",
       "      <th>MonthlyIncome</th>\n",
       "      <th>NumberOfOpenCreditLinesAndLoans</th>\n",
       "      <th>NumberOfTimes90DaysLate</th>\n",
       "      <th>NumberRealEstateLoansOrLines</th>\n",
       "      <th>NumberOfTime60-89DaysPastDueNotWorse</th>\n",
       "      <th>NumberOfDependents</th>\n",
       "    </tr>\n",
       "  </thead>\n",
       "  <tbody>\n",
       "    <tr>\n",
       "      <th>0</th>\n",
       "      <td>0</td>\n",
       "      <td>0.003032</td>\n",
       "      <td>53</td>\n",
       "      <td>0</td>\n",
       "      <td>5.967504</td>\n",
       "      <td>8000.0</td>\n",
       "      <td>60</td>\n",
       "      <td>0</td>\n",
       "      <td>60</td>\n",
       "      <td>0</td>\n",
       "      <td>0.0</td>\n",
       "    </tr>\n",
       "    <tr>\n",
       "      <th>1</th>\n",
       "      <td>0</td>\n",
       "      <td>0.010846</td>\n",
       "      <td>60</td>\n",
       "      <td>0</td>\n",
       "      <td>1.041757</td>\n",
       "      <td>70000.0</td>\n",
       "      <td>38</td>\n",
       "      <td>0</td>\n",
       "      <td>32</td>\n",
       "      <td>0</td>\n",
       "      <td>0.0</td>\n",
       "    </tr>\n",
       "    <tr>\n",
       "      <th>2</th>\n",
       "      <td>1</td>\n",
       "      <td>0.036942</td>\n",
       "      <td>43</td>\n",
       "      <td>0</td>\n",
       "      <td>0.719174</td>\n",
       "      <td>55966.0</td>\n",
       "      <td>41</td>\n",
       "      <td>0</td>\n",
       "      <td>29</td>\n",
       "      <td>0</td>\n",
       "      <td>0.0</td>\n",
       "    </tr>\n",
       "    <tr>\n",
       "      <th>3</th>\n",
       "      <td>0</td>\n",
       "      <td>0.635363</td>\n",
       "      <td>61</td>\n",
       "      <td>6</td>\n",
       "      <td>0.429449</td>\n",
       "      <td>48000.0</td>\n",
       "      <td>33</td>\n",
       "      <td>1</td>\n",
       "      <td>26</td>\n",
       "      <td>0</td>\n",
       "      <td>1.0</td>\n",
       "    </tr>\n",
       "    <tr>\n",
       "      <th>4</th>\n",
       "      <td>0</td>\n",
       "      <td>0.297748</td>\n",
       "      <td>44</td>\n",
       "      <td>0</td>\n",
       "      <td>1.237481</td>\n",
       "      <td>12400.0</td>\n",
       "      <td>42</td>\n",
       "      <td>0</td>\n",
       "      <td>25</td>\n",
       "      <td>0</td>\n",
       "      <td>2.0</td>\n",
       "    </tr>\n",
       "  </tbody>\n",
       "</table>\n",
       "</div>"
      ],
      "text/plain": [
       "   SeriousDlqin2yrs  RevolvingUtilizationOfUnsecuredLines  age  \\\n",
       "0                 0                              0.003032   53   \n",
       "1                 0                              0.010846   60   \n",
       "2                 1                              0.036942   43   \n",
       "3                 0                              0.635363   61   \n",
       "4                 0                              0.297748   44   \n",
       "\n",
       "   NumberOfTime30-59DaysPastDueNotWorse  DebtRatio  MonthlyIncome  \\\n",
       "0                                     0   5.967504         8000.0   \n",
       "1                                     0   1.041757        70000.0   \n",
       "2                                     0   0.719174        55966.0   \n",
       "3                                     6   0.429449        48000.0   \n",
       "4                                     0   1.237481        12400.0   \n",
       "\n",
       "   NumberOfOpenCreditLinesAndLoans  NumberOfTimes90DaysLate  \\\n",
       "0                               60                        0   \n",
       "1                               38                        0   \n",
       "2                               41                        0   \n",
       "3                               33                        1   \n",
       "4                               42                        0   \n",
       "\n",
       "   NumberRealEstateLoansOrLines  NumberOfTime60-89DaysPastDueNotWorse  \\\n",
       "0                            60                                     0   \n",
       "1                            32                                     0   \n",
       "2                            29                                     0   \n",
       "3                            26                                     0   \n",
       "4                            25                                     0   \n",
       "\n",
       "   NumberOfDependents  \n",
       "0                 0.0  \n",
       "1                 0.0  \n",
       "2                 0.0  \n",
       "3                 1.0  \n",
       "4                 2.0  "
      ]
     },
     "execution_count": 39,
     "metadata": {},
     "output_type": "execute_result"
    }
   ],
   "source": [
    "filled_train.head()"
   ]
  },
  {
   "cell_type": "markdown",
   "id": "75e72018-5ab4-4441-91b2-6b534afebc8f",
   "metadata": {},
   "source": [
    "### Column 1 = 'SeriousDlqin2yrs' is the target variable that shows whether the customer defaulted or not"
   ]
  },
  {
   "cell_type": "code",
   "execution_count": 40,
   "id": "da463445-0f22-45a1-9d4e-0acc83c8b0a3",
   "metadata": {},
   "outputs": [
    {
     "name": "stdout",
     "output_type": "stream",
     "text": [
      "\u001b[1mTotal Records:-\u001b[0m\n",
      "149391\n",
      "\n",
      "\u001b[1mCount of defaulters:-\u001b[0m\n",
      "SeriousDlqin2yrs\n",
      "0    139382\n",
      "1     10009\n",
      "dtype: int64\n",
      "\n",
      "\u001b[1mPercent of defaulters:-\u001b[0m\n",
      "SeriousDlqin2yrs\n",
      "0    93.300132\n",
      "1     6.699868\n",
      "dtype: float64\n"
     ]
    }
   ],
   "source": [
    "print(f\"\\033[1mTotal Records:-\\033[0m\\n{filled_train.shape[0]}\")#'\\033[1m' & '\\033[0m' used to start and end bold printing\n",
    "print(f\"\\n\\033[1mCount of defaulters:-\\033[0m\\n{GroupBy(filled_train,filled_train['SeriousDlqin2yrs'])}\")\n",
    "print(f\"\\n\\033[1mPercent of defaulters:-\\033[0m\\n{GroupByPerc(filled_train,filled_train['SeriousDlqin2yrs'])}\")"
   ]
  },
  {
   "cell_type": "markdown",
   "id": "2d10a9f4-a01c-406e-9f51-d6260ebc32e0",
   "metadata": {},
   "source": [
    "### Rearranging columns and performing individual variable analysis for remaining variables"
   ]
  },
  {
   "cell_type": "code",
   "execution_count": 41,
   "id": "ed956d56-17dd-4cbc-9b24-a21e32a89a07",
   "metadata": {},
   "outputs": [],
   "source": [
    "filled_train = filled_train.reindex(columns=['SeriousDlqin2yrs','RevolvingUtilizationOfUnsecuredLines',\n",
    "                                             'NumberOfOpenCreditLinesAndLoans','NumberRealEstateLoansOrLines',\n",
    "                                             'age','DebtRatio','NumberOfTime30-59DaysPastDueNotWorse',\n",
    "                                             'NumberOfTime60-89DaysPastDueNotWorse','NumberOfTimes90DaysLate',\n",
    "                                             'MonthlyIncome','NumberOfDependents'])\n"
   ]
  },
  {
   "cell_type": "code",
   "execution_count": 42,
   "id": "89059e3d-9b36-4c80-a60c-856711897649",
   "metadata": {},
   "outputs": [
    {
     "data": {
      "text/plain": [
       "count    149391.000000\n",
       "mean          6.071087\n",
       "std         250.263672\n",
       "min           0.000000\n",
       "25%           0.030132\n",
       "50%           0.154235\n",
       "75%           0.556494\n",
       "max       50708.000000\n",
       "Name: RevolvingUtilizationOfUnsecuredLines, dtype: float64"
      ]
     },
     "execution_count": 42,
     "metadata": {},
     "output_type": "execute_result"
    }
   ],
   "source": [
    "filled_train['RevolvingUtilizationOfUnsecuredLines'].describe()"
   ]
  },
  {
   "cell_type": "markdown",
   "id": "01a4f3db-0c3e-452c-8c49-7bc1aa438105",
   "metadata": {},
   "source": [
    "#### Most of the rows have value less than 1, checking quantile"
   ]
  },
  {
   "cell_type": "code",
   "execution_count": 43,
   "id": "3b811695-4830-4faf-9a78-8f0a480437a5",
   "metadata": {},
   "outputs": [
    {
     "data": {
      "text/plain": [
       "0.9    0.978007\n",
       "Name: RevolvingUtilizationOfUnsecuredLines, dtype: float64"
      ]
     },
     "execution_count": 43,
     "metadata": {},
     "output_type": "execute_result"
    }
   ],
   "source": [
    "filled_train['RevolvingUtilizationOfUnsecuredLines'].quantile([.9])"
   ]
  },
  {
   "cell_type": "code",
   "execution_count": 44,
   "id": "c14f0207-bbed-4bb5-a62c-8b497f843a45",
   "metadata": {},
   "outputs": [
    {
     "data": {
      "text/plain": [
       "0.97    1.0\n",
       "Name: RevolvingUtilizationOfUnsecuredLines, dtype: float64"
      ]
     },
     "execution_count": 44,
     "metadata": {},
     "output_type": "execute_result"
    }
   ],
   "source": [
    "filled_train['RevolvingUtilizationOfUnsecuredLines'].quantile([.97])"
   ]
  },
  {
   "cell_type": "markdown",
   "id": "c6c43348-b764-442c-8d66-d4965a231201",
   "metadata": {},
   "source": [
    "#### We can see 97% values are less than 1 in column 'RevolvingUtilizationOfUnsecuredLines'. But can we delete all other values, are they insignificant?"
   ]
  },
  {
   "cell_type": "code",
   "execution_count": 45,
   "id": "d853bf28-eb20-4ae7-b76c-947b6c7aa88f",
   "metadata": {},
   "outputs": [
    {
     "data": {
      "text/plain": [
       "SeriousDlqin2yrs\n",
       "0    2084\n",
       "1    1237\n",
       "dtype: int64"
      ]
     },
     "execution_count": 45,
     "metadata": {},
     "output_type": "execute_result"
    }
   ],
   "source": [
    "(filled_train[filled_train['RevolvingUtilizationOfUnsecuredLines']>1]).groupby('SeriousDlqin2yrs').size()"
   ]
  },
  {
   "cell_type": "markdown",
   "id": "a5e3de41-f100-4bd3-988f-190cc32d246a",
   "metadata": {},
   "source": [
    "#### Hence there are still many significant rows which contribute to deault\n"
   ]
  },
  {
   "cell_type": "code",
   "execution_count": 46,
   "id": "1209925c-1e1a-4ad2-9ba4-827d4420a8bc",
   "metadata": {},
   "outputs": [
    {
     "data": {
      "text/plain": [
       "SeriousDlqin2yrs\n",
       "0    224\n",
       "1     17\n",
       "dtype: int64"
      ]
     },
     "execution_count": 46,
     "metadata": {},
     "output_type": "execute_result"
    }
   ],
   "source": [
    "(filled_train[filled_train['RevolvingUtilizationOfUnsecuredLines']>10]).groupby('SeriousDlqin2yrs').size()"
   ]
  },
  {
   "cell_type": "code",
   "execution_count": 47,
   "id": "99a38a71-cba0-43ef-a86d-dffb3c23352a",
   "metadata": {},
   "outputs": [
    {
     "data": {
      "text/html": [
       "<div>\n",
       "<style scoped>\n",
       "    .dataframe tbody tr th:only-of-type {\n",
       "        vertical-align: middle;\n",
       "    }\n",
       "\n",
       "    .dataframe tbody tr th {\n",
       "        vertical-align: top;\n",
       "    }\n",
       "\n",
       "    .dataframe thead th {\n",
       "        text-align: right;\n",
       "    }\n",
       "</style>\n",
       "<table border=\"1\" class=\"dataframe\">\n",
       "  <thead>\n",
       "    <tr style=\"text-align: right;\">\n",
       "      <th></th>\n",
       "      <th>SeriousDlqin2yrs</th>\n",
       "      <th>RevolvingUtilizationOfUnsecuredLines</th>\n",
       "      <th>NumberOfOpenCreditLinesAndLoans</th>\n",
       "      <th>NumberRealEstateLoansOrLines</th>\n",
       "      <th>age</th>\n",
       "      <th>DebtRatio</th>\n",
       "      <th>NumberOfTime30-59DaysPastDueNotWorse</th>\n",
       "      <th>NumberOfTime60-89DaysPastDueNotWorse</th>\n",
       "      <th>NumberOfTimes90DaysLate</th>\n",
       "      <th>MonthlyIncome</th>\n",
       "      <th>NumberOfDependents</th>\n",
       "    </tr>\n",
       "  </thead>\n",
       "  <tbody>\n",
       "    <tr>\n",
       "      <th>count</th>\n",
       "      <td>241.000000</td>\n",
       "      <td>241.000000</td>\n",
       "      <td>241.000000</td>\n",
       "      <td>241.000000</td>\n",
       "      <td>241.000000</td>\n",
       "      <td>241.000000</td>\n",
       "      <td>241.000000</td>\n",
       "      <td>241.000000</td>\n",
       "      <td>241.000000</td>\n",
       "      <td>241.000000</td>\n",
       "      <td>241.000000</td>\n",
       "    </tr>\n",
       "    <tr>\n",
       "      <th>mean</th>\n",
       "      <td>0.070539</td>\n",
       "      <td>3564.023932</td>\n",
       "      <td>5.763485</td>\n",
       "      <td>1.186722</td>\n",
       "      <td>50.630705</td>\n",
       "      <td>571.918644</td>\n",
       "      <td>0.186722</td>\n",
       "      <td>0.087137</td>\n",
       "      <td>0.074689</td>\n",
       "      <td>7602.103734</td>\n",
       "      <td>0.651452</td>\n",
       "    </tr>\n",
       "    <tr>\n",
       "      <th>std</th>\n",
       "      <td>0.256587</td>\n",
       "      <td>5123.802683</td>\n",
       "      <td>3.114160</td>\n",
       "      <td>1.065750</td>\n",
       "      <td>14.565389</td>\n",
       "      <td>1772.948412</td>\n",
       "      <td>0.579502</td>\n",
       "      <td>0.559651</td>\n",
       "      <td>0.579711</td>\n",
       "      <td>5726.519076</td>\n",
       "      <td>1.022093</td>\n",
       "    </tr>\n",
       "    <tr>\n",
       "      <th>min</th>\n",
       "      <td>0.000000</td>\n",
       "      <td>11.385230</td>\n",
       "      <td>1.000000</td>\n",
       "      <td>0.000000</td>\n",
       "      <td>24.000000</td>\n",
       "      <td>0.000800</td>\n",
       "      <td>0.000000</td>\n",
       "      <td>0.000000</td>\n",
       "      <td>0.000000</td>\n",
       "      <td>0.000000</td>\n",
       "      <td>0.000000</td>\n",
       "    </tr>\n",
       "    <tr>\n",
       "      <th>25%</th>\n",
       "      <td>0.000000</td>\n",
       "      <td>941.000000</td>\n",
       "      <td>4.000000</td>\n",
       "      <td>0.000000</td>\n",
       "      <td>39.000000</td>\n",
       "      <td>0.217813</td>\n",
       "      <td>0.000000</td>\n",
       "      <td>0.000000</td>\n",
       "      <td>0.000000</td>\n",
       "      <td>5400.000000</td>\n",
       "      <td>0.000000</td>\n",
       "    </tr>\n",
       "    <tr>\n",
       "      <th>50%</th>\n",
       "      <td>0.000000</td>\n",
       "      <td>2012.000000</td>\n",
       "      <td>5.000000</td>\n",
       "      <td>1.000000</td>\n",
       "      <td>48.000000</td>\n",
       "      <td>0.402560</td>\n",
       "      <td>0.000000</td>\n",
       "      <td>0.000000</td>\n",
       "      <td>0.000000</td>\n",
       "      <td>5400.000000</td>\n",
       "      <td>0.000000</td>\n",
       "    </tr>\n",
       "    <tr>\n",
       "      <th>75%</th>\n",
       "      <td>0.000000</td>\n",
       "      <td>4116.000000</td>\n",
       "      <td>7.000000</td>\n",
       "      <td>2.000000</td>\n",
       "      <td>62.000000</td>\n",
       "      <td>59.000000</td>\n",
       "      <td>0.000000</td>\n",
       "      <td>0.000000</td>\n",
       "      <td>0.000000</td>\n",
       "      <td>8607.000000</td>\n",
       "      <td>1.000000</td>\n",
       "    </tr>\n",
       "    <tr>\n",
       "      <th>max</th>\n",
       "      <td>1.000000</td>\n",
       "      <td>50708.000000</td>\n",
       "      <td>21.000000</td>\n",
       "      <td>9.000000</td>\n",
       "      <td>87.000000</td>\n",
       "      <td>21395.000000</td>\n",
       "      <td>3.000000</td>\n",
       "      <td>7.000000</td>\n",
       "      <td>8.000000</td>\n",
       "      <td>44472.000000</td>\n",
       "      <td>4.000000</td>\n",
       "    </tr>\n",
       "  </tbody>\n",
       "</table>\n",
       "</div>"
      ],
      "text/plain": [
       "       SeriousDlqin2yrs  RevolvingUtilizationOfUnsecuredLines  \\\n",
       "count        241.000000                            241.000000   \n",
       "mean           0.070539                           3564.023932   \n",
       "std            0.256587                           5123.802683   \n",
       "min            0.000000                             11.385230   \n",
       "25%            0.000000                            941.000000   \n",
       "50%            0.000000                           2012.000000   \n",
       "75%            0.000000                           4116.000000   \n",
       "max            1.000000                          50708.000000   \n",
       "\n",
       "       NumberOfOpenCreditLinesAndLoans  NumberRealEstateLoansOrLines  \\\n",
       "count                       241.000000                    241.000000   \n",
       "mean                          5.763485                      1.186722   \n",
       "std                           3.114160                      1.065750   \n",
       "min                           1.000000                      0.000000   \n",
       "25%                           4.000000                      0.000000   \n",
       "50%                           5.000000                      1.000000   \n",
       "75%                           7.000000                      2.000000   \n",
       "max                          21.000000                      9.000000   \n",
       "\n",
       "              age     DebtRatio  NumberOfTime30-59DaysPastDueNotWorse  \\\n",
       "count  241.000000    241.000000                            241.000000   \n",
       "mean    50.630705    571.918644                              0.186722   \n",
       "std     14.565389   1772.948412                              0.579502   \n",
       "min     24.000000      0.000800                              0.000000   \n",
       "25%     39.000000      0.217813                              0.000000   \n",
       "50%     48.000000      0.402560                              0.000000   \n",
       "75%     62.000000     59.000000                              0.000000   \n",
       "max     87.000000  21395.000000                              3.000000   \n",
       "\n",
       "       NumberOfTime60-89DaysPastDueNotWorse  NumberOfTimes90DaysLate  \\\n",
       "count                            241.000000               241.000000   \n",
       "mean                               0.087137                 0.074689   \n",
       "std                                0.559651                 0.579711   \n",
       "min                                0.000000                 0.000000   \n",
       "25%                                0.000000                 0.000000   \n",
       "50%                                0.000000                 0.000000   \n",
       "75%                                0.000000                 0.000000   \n",
       "max                                7.000000                 8.000000   \n",
       "\n",
       "       MonthlyIncome  NumberOfDependents  \n",
       "count     241.000000          241.000000  \n",
       "mean     7602.103734            0.651452  \n",
       "std      5726.519076            1.022093  \n",
       "min         0.000000            0.000000  \n",
       "25%      5400.000000            0.000000  \n",
       "50%      5400.000000            0.000000  \n",
       "75%      8607.000000            1.000000  \n",
       "max     44472.000000            4.000000  "
      ]
     },
     "execution_count": 47,
     "metadata": {},
     "output_type": "execute_result"
    }
   ],
   "source": [
    "(filled_train[filled_train['RevolvingUtilizationOfUnsecuredLines']>10]).describe()"
   ]
  },
  {
   "cell_type": "code",
   "execution_count": null,
   "id": "dbce6571-c782-4dd8-9722-380cda7aac53",
   "metadata": {},
   "outputs": [],
   "source": []
  },
  {
   "cell_type": "markdown",
   "id": "a61638d4-086d-4616-b367-15b300e05716",
   "metadata": {},
   "source": [
    "#### These values are not much sigificant(as these are very less number of records), hence dropping them\n"
   ]
  },
  {
   "cell_type": "code",
   "execution_count": 48,
   "id": "36d8a531-1e93-4235-b8d9-ac58e6c838b9",
   "metadata": {},
   "outputs": [
    {
     "data": {
      "text/html": [
       "<div>\n",
       "<style scoped>\n",
       "    .dataframe tbody tr th:only-of-type {\n",
       "        vertical-align: middle;\n",
       "    }\n",
       "\n",
       "    .dataframe tbody tr th {\n",
       "        vertical-align: top;\n",
       "    }\n",
       "\n",
       "    .dataframe thead th {\n",
       "        text-align: right;\n",
       "    }\n",
       "</style>\n",
       "<table border=\"1\" class=\"dataframe\">\n",
       "  <thead>\n",
       "    <tr style=\"text-align: right;\">\n",
       "      <th></th>\n",
       "      <th>SeriousDlqin2yrs</th>\n",
       "      <th>RevolvingUtilizationOfUnsecuredLines</th>\n",
       "      <th>NumberOfOpenCreditLinesAndLoans</th>\n",
       "      <th>NumberRealEstateLoansOrLines</th>\n",
       "      <th>age</th>\n",
       "      <th>DebtRatio</th>\n",
       "      <th>NumberOfTime30-59DaysPastDueNotWorse</th>\n",
       "      <th>NumberOfTime60-89DaysPastDueNotWorse</th>\n",
       "      <th>NumberOfTimes90DaysLate</th>\n",
       "      <th>MonthlyIncome</th>\n",
       "      <th>NumberOfDependents</th>\n",
       "    </tr>\n",
       "  </thead>\n",
       "  <tbody>\n",
       "    <tr>\n",
       "      <th>count</th>\n",
       "      <td>149150.000000</td>\n",
       "      <td>149150.000000</td>\n",
       "      <td>149150.000000</td>\n",
       "      <td>149150.000000</td>\n",
       "      <td>149150.000000</td>\n",
       "      <td>149150.000000</td>\n",
       "      <td>149150.000000</td>\n",
       "      <td>149150.000000</td>\n",
       "      <td>149150.000000</td>\n",
       "      <td>1.491500e+05</td>\n",
       "      <td>149150.000000</td>\n",
       "    </tr>\n",
       "    <tr>\n",
       "      <th>mean</th>\n",
       "      <td>0.066993</td>\n",
       "      <td>0.322065</td>\n",
       "      <td>8.485297</td>\n",
       "      <td>1.022166</td>\n",
       "      <td>52.308944</td>\n",
       "      <td>354.085328</td>\n",
       "      <td>0.394221</td>\n",
       "      <td>0.212705</td>\n",
       "      <td>0.238384</td>\n",
       "      <td>6.423787e+03</td>\n",
       "      <td>0.740536</td>\n",
       "    </tr>\n",
       "    <tr>\n",
       "      <th>std</th>\n",
       "      <td>0.250011</td>\n",
       "      <td>0.365943</td>\n",
       "      <td>5.138114</td>\n",
       "      <td>1.132271</td>\n",
       "      <td>14.726114</td>\n",
       "      <td>2042.235713</td>\n",
       "      <td>3.855986</td>\n",
       "      <td>3.813531</td>\n",
       "      <td>3.829178</td>\n",
       "      <td>1.292397e+04</td>\n",
       "      <td>1.108403</td>\n",
       "    </tr>\n",
       "    <tr>\n",
       "      <th>min</th>\n",
       "      <td>0.000000</td>\n",
       "      <td>0.000000</td>\n",
       "      <td>0.000000</td>\n",
       "      <td>0.000000</td>\n",
       "      <td>0.000000</td>\n",
       "      <td>0.000000</td>\n",
       "      <td>0.000000</td>\n",
       "      <td>0.000000</td>\n",
       "      <td>0.000000</td>\n",
       "      <td>0.000000e+00</td>\n",
       "      <td>0.000000</td>\n",
       "    </tr>\n",
       "    <tr>\n",
       "      <th>25%</th>\n",
       "      <td>0.000000</td>\n",
       "      <td>0.030027</td>\n",
       "      <td>5.000000</td>\n",
       "      <td>0.000000</td>\n",
       "      <td>41.000000</td>\n",
       "      <td>0.177334</td>\n",
       "      <td>0.000000</td>\n",
       "      <td>0.000000</td>\n",
       "      <td>0.000000</td>\n",
       "      <td>3.900000e+03</td>\n",
       "      <td>0.000000</td>\n",
       "    </tr>\n",
       "    <tr>\n",
       "      <th>50%</th>\n",
       "      <td>0.000000</td>\n",
       "      <td>0.153564</td>\n",
       "      <td>8.000000</td>\n",
       "      <td>1.000000</td>\n",
       "      <td>52.000000</td>\n",
       "      <td>0.368200</td>\n",
       "      <td>0.000000</td>\n",
       "      <td>0.000000</td>\n",
       "      <td>0.000000</td>\n",
       "      <td>5.400000e+03</td>\n",
       "      <td>0.000000</td>\n",
       "    </tr>\n",
       "    <tr>\n",
       "      <th>75%</th>\n",
       "      <td>0.000000</td>\n",
       "      <td>0.553558</td>\n",
       "      <td>11.000000</td>\n",
       "      <td>2.000000</td>\n",
       "      <td>63.000000</td>\n",
       "      <td>0.874241</td>\n",
       "      <td>0.000000</td>\n",
       "      <td>0.000000</td>\n",
       "      <td>0.000000</td>\n",
       "      <td>7.400000e+03</td>\n",
       "      <td>1.000000</td>\n",
       "    </tr>\n",
       "    <tr>\n",
       "      <th>max</th>\n",
       "      <td>1.000000</td>\n",
       "      <td>8.851852</td>\n",
       "      <td>60.000000</td>\n",
       "      <td>60.000000</td>\n",
       "      <td>109.000000</td>\n",
       "      <td>329664.000000</td>\n",
       "      <td>98.000000</td>\n",
       "      <td>98.000000</td>\n",
       "      <td>98.000000</td>\n",
       "      <td>3.008750e+06</td>\n",
       "      <td>20.000000</td>\n",
       "    </tr>\n",
       "  </tbody>\n",
       "</table>\n",
       "</div>"
      ],
      "text/plain": [
       "       SeriousDlqin2yrs  RevolvingUtilizationOfUnsecuredLines  \\\n",
       "count     149150.000000                         149150.000000   \n",
       "mean           0.066993                              0.322065   \n",
       "std            0.250011                              0.365943   \n",
       "min            0.000000                              0.000000   \n",
       "25%            0.000000                              0.030027   \n",
       "50%            0.000000                              0.153564   \n",
       "75%            0.000000                              0.553558   \n",
       "max            1.000000                              8.851852   \n",
       "\n",
       "       NumberOfOpenCreditLinesAndLoans  NumberRealEstateLoansOrLines  \\\n",
       "count                    149150.000000                 149150.000000   \n",
       "mean                          8.485297                      1.022166   \n",
       "std                           5.138114                      1.132271   \n",
       "min                           0.000000                      0.000000   \n",
       "25%                           5.000000                      0.000000   \n",
       "50%                           8.000000                      1.000000   \n",
       "75%                          11.000000                      2.000000   \n",
       "max                          60.000000                     60.000000   \n",
       "\n",
       "                 age      DebtRatio  NumberOfTime30-59DaysPastDueNotWorse  \\\n",
       "count  149150.000000  149150.000000                         149150.000000   \n",
       "mean       52.308944     354.085328                              0.394221   \n",
       "std        14.726114    2042.235713                              3.855986   \n",
       "min         0.000000       0.000000                              0.000000   \n",
       "25%        41.000000       0.177334                              0.000000   \n",
       "50%        52.000000       0.368200                              0.000000   \n",
       "75%        63.000000       0.874241                              0.000000   \n",
       "max       109.000000  329664.000000                             98.000000   \n",
       "\n",
       "       NumberOfTime60-89DaysPastDueNotWorse  NumberOfTimes90DaysLate  \\\n",
       "count                         149150.000000            149150.000000   \n",
       "mean                               0.212705                 0.238384   \n",
       "std                                3.813531                 3.829178   \n",
       "min                                0.000000                 0.000000   \n",
       "25%                                0.000000                 0.000000   \n",
       "50%                                0.000000                 0.000000   \n",
       "75%                                0.000000                 0.000000   \n",
       "max                               98.000000                98.000000   \n",
       "\n",
       "       MonthlyIncome  NumberOfDependents  \n",
       "count   1.491500e+05       149150.000000  \n",
       "mean    6.423787e+03            0.740536  \n",
       "std     1.292397e+04            1.108403  \n",
       "min     0.000000e+00            0.000000  \n",
       "25%     3.900000e+03            0.000000  \n",
       "50%     5.400000e+03            0.000000  \n",
       "75%     7.400000e+03            1.000000  \n",
       "max     3.008750e+06           20.000000  "
      ]
     },
     "execution_count": 48,
     "metadata": {},
     "output_type": "execute_result"
    }
   ],
   "source": [
    "train_drop1 = filled_train.drop(filled_train[filled_train['RevolvingUtilizationOfUnsecuredLines'] > 10].index)\n",
    "train_drop1.describe()"
   ]
  },
  {
   "cell_type": "markdown",
   "id": "4bac791d-e74b-412c-a842-3bc29e1a16ca",
   "metadata": {},
   "source": [
    "#### Analysing other variables\n"
   ]
  },
  {
   "cell_type": "code",
   "execution_count": 49,
   "id": "d7fa30ca-ea5b-425b-bf90-6b1dde55c57a",
   "metadata": {},
   "outputs": [
    {
     "data": {
      "text/plain": [
       "count    149150.000000\n",
       "mean          8.485297\n",
       "std           5.138114\n",
       "min           0.000000\n",
       "25%           5.000000\n",
       "50%           8.000000\n",
       "75%          11.000000\n",
       "max          60.000000\n",
       "Name: NumberOfOpenCreditLinesAndLoans, dtype: float64"
      ]
     },
     "execution_count": 49,
     "metadata": {},
     "output_type": "execute_result"
    }
   ],
   "source": [
    "train_drop1['NumberOfOpenCreditLinesAndLoans'].describe()"
   ]
  },
  {
   "cell_type": "code",
   "execution_count": 50,
   "id": "3747b003-0ee1-42ff-942a-66345a17f54d",
   "metadata": {},
   "outputs": [
    {
     "data": {
      "image/png": "[encoded data removed]",
      "text/plain": [
       "<Figure size 640x480 with 1 Axes>"
      ]
     },
     "metadata": {},
     "output_type": "display_data"
    }
   ],
   "source": [
    "#Grouped frequency distribution with counts on each bar\n",
    "\n",
    "counts, bins, patches = plt.hist(train_drop1['NumberOfOpenCreditLinesAndLoans'], bins=6, edgecolor='black', color='violet')#the main graph\n",
    "\n",
    "# Add frequency labels on top of bars\n",
    "for count, patch in zip(counts, patches):\n",
    "    plt.text(patch.get_x() + patch.get_width() / 2, count, int(count),\n",
    "             ha='center', va='bottom')\n",
    "\n",
    "plt.xlabel('Number of Open Credit Lines')\n",
    "plt.ylabel('Frequency')\n",
    "plt.title('Grouped Frequency Distribution - Histogram')\n",
    "plt.show()"
   ]
  },
  {
   "cell_type": "markdown",
   "id": "fdfbfac7-6aae-42b2-9219-172f559548a3",
   "metadata": {},
   "source": [
    "#### Seems not much problem with this variable, moving on to next column\n"
   ]
  },
  {
   "cell_type": "code",
   "execution_count": 51,
   "id": "95ba18b4-0234-401f-8012-cf082ffb840b",
   "metadata": {},
   "outputs": [
    {
     "data": {
      "text/plain": [
       "count    149150.000000\n",
       "mean          1.022166\n",
       "std           1.132271\n",
       "min           0.000000\n",
       "25%           0.000000\n",
       "50%           1.000000\n",
       "75%           2.000000\n",
       "max          60.000000\n",
       "Name: NumberRealEstateLoansOrLines, dtype: float64"
      ]
     },
     "execution_count": 51,
     "metadata": {},
     "output_type": "execute_result"
    }
   ],
   "source": [
    "train_drop1['NumberRealEstateLoansOrLines'].describe()\n"
   ]
  },
  {
   "cell_type": "code",
   "execution_count": 52,
   "id": "df76926c-9dd3-4874-8a8b-fb27afd376df",
   "metadata": {},
   "outputs": [
    {
     "data": {
      "image/png": "[encoded data removed]",
      "text/plain": [
       "<Figure size 640x480 with 1 Axes>"
      ]
     },
     "metadata": {},
     "output_type": "display_data"
    }
   ],
   "source": [
    "#Grouped frequency distribution with counts on each bar\n",
    "\n",
    "counts, bins, patches = plt.hist(train_drop1['NumberRealEstateLoansOrLines'], bins=6, edgecolor='black', color='deeppink')#the main graph\n",
    "\n",
    "# Add frequency labels on top of bars\n",
    "for count, patch in zip(counts, patches):\n",
    "    plt.text(patch.get_x() + patch.get_width() / 2, count, int(count),\n",
    "             ha='center', va='bottom')\n",
    "\n",
    "plt.xlabel('Number of Real Estate Loans Or Lines')\n",
    "plt.ylabel('Frequency')\n",
    "plt.title('Grouped Frequency Distribution - Histogram')\n",
    "plt.show()"
   ]
  },
  {
   "cell_type": "markdown",
   "id": "b38c420d-2c9d-452e-a162-a8ec58dc4ceb",
   "metadata": {},
   "source": [
    "#### Seems no problem in this variable. Now,analysing the age variable\n"
   ]
  },
  {
   "cell_type": "code",
   "execution_count": 53,
   "id": "eccaef08-3c0f-4b7a-b78e-805ec99d80ba",
   "metadata": {},
   "outputs": [
    {
     "data": {
      "text/plain": [
       "count    149150.000000\n",
       "mean         52.308944\n",
       "std          14.726114\n",
       "min           0.000000\n",
       "25%          41.000000\n",
       "50%          52.000000\n",
       "75%          63.000000\n",
       "max         109.000000\n",
       "Name: age, dtype: float64"
      ]
     },
     "execution_count": 53,
     "metadata": {},
     "output_type": "execute_result"
    }
   ],
   "source": [
    "train_drop1['age'].describe()"
   ]
  },
  {
   "cell_type": "code",
   "execution_count": 54,
   "id": "22088b18-9a41-4004-9876-13d000370e8f",
   "metadata": {},
   "outputs": [
    {
     "data": {
      "text/plain": [
       "<Axes: ylabel='age'>"
      ]
     },
     "execution_count": 54,
     "metadata": {},
     "output_type": "execute_result"
    },
    {
     "data": {
      "image/png": "[encoded data removed]",
      "text/plain": [
       "<Figure size 640x480 with 1 Axes>"
      ]
     },
     "metadata": {},
     "output_type": "display_data"
    }
   ],
   "source": [
    "sns.boxplot(train_drop1['age'])"
   ]
  },
  {
   "cell_type": "markdown",
   "id": "cb31c96b-4754-4eea-8005-1b237039fb86",
   "metadata": {},
   "source": [
    "#### Dropping the tuple with age zero\n"
   ]
  },
  {
   "cell_type": "code",
   "execution_count": 55,
   "id": "da56ab30-b5f0-4f94-9927-93114044385b",
   "metadata": {},
   "outputs": [],
   "source": [
    "#train_drop1.drop(['age'] == 0,axis=1)\n",
    "train_drop1.drop(train_drop1[train_drop1['age'] == 0].index, inplace=True)"
   ]
  },
  {
   "cell_type": "markdown",
   "id": "4bc27fd9-f4c6-4e38-ba41-409cf05576b8",
   "metadata": {},
   "source": [
    "##### Here we have used 'inplace = True' which unlike earlier drop (used in dropping 'RevolvingUtilizationOfUnsecuredLines') directly modifies and updates the dataframe with dropped value(s), without using inplace or using 'inplace = False' gives a new data frame with dropped values (can be saved with another name) and it does not drop the said values in the original dataframe"
   ]
  },
  {
   "cell_type": "code",
   "execution_count": 56,
   "id": "d41cfb6c-d019-40b7-a9ea-caf9b7914b70",
   "metadata": {},
   "outputs": [
    {
     "data": {
      "text/plain": [
       "<Axes: ylabel='age'>"
      ]
     },
     "execution_count": 56,
     "metadata": {},
     "output_type": "execute_result"
    },
    {
     "data": {
      "image/png": "[encoded data removed]",
      "text/plain": [
       "<Figure size 640x480 with 1 Axes>"
      ]
     },
     "metadata": {},
     "output_type": "display_data"
    }
   ],
   "source": [
    "sns.boxplot(train_drop1['age'])"
   ]
  },
  {
   "cell_type": "code",
   "execution_count": 57,
   "id": "a90142a4-ac64-43fd-9831-fad596c4dcbd",
   "metadata": {
    "scrolled": true
   },
   "outputs": [
    {
     "data": {
      "text/html": [
       "<div>\n",
       "<style scoped>\n",
       "    .dataframe tbody tr th:only-of-type {\n",
       "        vertical-align: middle;\n",
       "    }\n",
       "\n",
       "    .dataframe tbody tr th {\n",
       "        vertical-align: top;\n",
       "    }\n",
       "\n",
       "    .dataframe thead th {\n",
       "        text-align: right;\n",
       "    }\n",
       "</style>\n",
       "<table border=\"1\" class=\"dataframe\">\n",
       "  <thead>\n",
       "    <tr style=\"text-align: right;\">\n",
       "      <th></th>\n",
       "      <th>SeriousDlqin2yrs</th>\n",
       "      <th>RevolvingUtilizationOfUnsecuredLines</th>\n",
       "      <th>NumberOfOpenCreditLinesAndLoans</th>\n",
       "      <th>NumberRealEstateLoansOrLines</th>\n",
       "      <th>age</th>\n",
       "      <th>DebtRatio</th>\n",
       "      <th>NumberOfTime30-59DaysPastDueNotWorse</th>\n",
       "      <th>NumberOfTime60-89DaysPastDueNotWorse</th>\n",
       "      <th>NumberOfTimes90DaysLate</th>\n",
       "      <th>MonthlyIncome</th>\n",
       "      <th>NumberOfDependents</th>\n",
       "    </tr>\n",
       "  </thead>\n",
       "  <tbody>\n",
       "    <tr>\n",
       "      <th>count</th>\n",
       "      <td>149149.000000</td>\n",
       "      <td>149149.000000</td>\n",
       "      <td>149149.000000</td>\n",
       "      <td>149149.000000</td>\n",
       "      <td>149149.000000</td>\n",
       "      <td>149149.000000</td>\n",
       "      <td>149149.000000</td>\n",
       "      <td>149149.000000</td>\n",
       "      <td>149149.000000</td>\n",
       "      <td>1.491490e+05</td>\n",
       "      <td>149149.000000</td>\n",
       "    </tr>\n",
       "    <tr>\n",
       "      <th>mean</th>\n",
       "      <td>0.066993</td>\n",
       "      <td>0.322060</td>\n",
       "      <td>8.485313</td>\n",
       "      <td>1.022159</td>\n",
       "      <td>52.309295</td>\n",
       "      <td>354.087699</td>\n",
       "      <td>0.394217</td>\n",
       "      <td>0.212707</td>\n",
       "      <td>0.238386</td>\n",
       "      <td>6.423790e+03</td>\n",
       "      <td>0.740528</td>\n",
       "    </tr>\n",
       "    <tr>\n",
       "      <th>std</th>\n",
       "      <td>0.250011</td>\n",
       "      <td>0.365940</td>\n",
       "      <td>5.138127</td>\n",
       "      <td>1.132272</td>\n",
       "      <td>14.725541</td>\n",
       "      <td>2042.242354</td>\n",
       "      <td>3.855998</td>\n",
       "      <td>3.813544</td>\n",
       "      <td>3.829191</td>\n",
       "      <td>1.292401e+04</td>\n",
       "      <td>1.108402</td>\n",
       "    </tr>\n",
       "    <tr>\n",
       "      <th>min</th>\n",
       "      <td>0.000000</td>\n",
       "      <td>0.000000</td>\n",
       "      <td>0.000000</td>\n",
       "      <td>0.000000</td>\n",
       "      <td>21.000000</td>\n",
       "      <td>0.000000</td>\n",
       "      <td>0.000000</td>\n",
       "      <td>0.000000</td>\n",
       "      <td>0.000000</td>\n",
       "      <td>0.000000e+00</td>\n",
       "      <td>0.000000</td>\n",
       "    </tr>\n",
       "    <tr>\n",
       "      <th>25%</th>\n",
       "      <td>0.000000</td>\n",
       "      <td>0.030026</td>\n",
       "      <td>5.000000</td>\n",
       "      <td>0.000000</td>\n",
       "      <td>41.000000</td>\n",
       "      <td>0.177333</td>\n",
       "      <td>0.000000</td>\n",
       "      <td>0.000000</td>\n",
       "      <td>0.000000</td>\n",
       "      <td>3.900000e+03</td>\n",
       "      <td>0.000000</td>\n",
       "    </tr>\n",
       "    <tr>\n",
       "      <th>50%</th>\n",
       "      <td>0.000000</td>\n",
       "      <td>0.153560</td>\n",
       "      <td>8.000000</td>\n",
       "      <td>1.000000</td>\n",
       "      <td>52.000000</td>\n",
       "      <td>0.368196</td>\n",
       "      <td>0.000000</td>\n",
       "      <td>0.000000</td>\n",
       "      <td>0.000000</td>\n",
       "      <td>5.400000e+03</td>\n",
       "      <td>0.000000</td>\n",
       "    </tr>\n",
       "    <tr>\n",
       "      <th>75%</th>\n",
       "      <td>0.000000</td>\n",
       "      <td>0.553548</td>\n",
       "      <td>11.000000</td>\n",
       "      <td>2.000000</td>\n",
       "      <td>63.000000</td>\n",
       "      <td>0.874244</td>\n",
       "      <td>0.000000</td>\n",
       "      <td>0.000000</td>\n",
       "      <td>0.000000</td>\n",
       "      <td>7.400000e+03</td>\n",
       "      <td>1.000000</td>\n",
       "    </tr>\n",
       "    <tr>\n",
       "      <th>max</th>\n",
       "      <td>1.000000</td>\n",
       "      <td>8.851852</td>\n",
       "      <td>60.000000</td>\n",
       "      <td>60.000000</td>\n",
       "      <td>109.000000</td>\n",
       "      <td>329664.000000</td>\n",
       "      <td>98.000000</td>\n",
       "      <td>98.000000</td>\n",
       "      <td>98.000000</td>\n",
       "      <td>3.008750e+06</td>\n",
       "      <td>20.000000</td>\n",
       "    </tr>\n",
       "  </tbody>\n",
       "</table>\n",
       "</div>"
      ],
      "text/plain": [
       "       SeriousDlqin2yrs  RevolvingUtilizationOfUnsecuredLines  \\\n",
       "count     149149.000000                         149149.000000   \n",
       "mean           0.066993                              0.322060   \n",
       "std            0.250011                              0.365940   \n",
       "min            0.000000                              0.000000   \n",
       "25%            0.000000                              0.030026   \n",
       "50%            0.000000                              0.153560   \n",
       "75%            0.000000                              0.553548   \n",
       "max            1.000000                              8.851852   \n",
       "\n",
       "       NumberOfOpenCreditLinesAndLoans  NumberRealEstateLoansOrLines  \\\n",
       "count                    149149.000000                 149149.000000   \n",
       "mean                          8.485313                      1.022159   \n",
       "std                           5.138127                      1.132272   \n",
       "min                           0.000000                      0.000000   \n",
       "25%                           5.000000                      0.000000   \n",
       "50%                           8.000000                      1.000000   \n",
       "75%                          11.000000                      2.000000   \n",
       "max                          60.000000                     60.000000   \n",
       "\n",
       "                 age      DebtRatio  NumberOfTime30-59DaysPastDueNotWorse  \\\n",
       "count  149149.000000  149149.000000                         149149.000000   \n",
       "mean       52.309295     354.087699                              0.394217   \n",
       "std        14.725541    2042.242354                              3.855998   \n",
       "min        21.000000       0.000000                              0.000000   \n",
       "25%        41.000000       0.177333                              0.000000   \n",
       "50%        52.000000       0.368196                              0.000000   \n",
       "75%        63.000000       0.874244                              0.000000   \n",
       "max       109.000000  329664.000000                             98.000000   \n",
       "\n",
       "       NumberOfTime60-89DaysPastDueNotWorse  NumberOfTimes90DaysLate  \\\n",
       "count                         149149.000000            149149.000000   \n",
       "mean                               0.212707                 0.238386   \n",
       "std                                3.813544                 3.829191   \n",
       "min                                0.000000                 0.000000   \n",
       "25%                                0.000000                 0.000000   \n",
       "50%                                0.000000                 0.000000   \n",
       "75%                                0.000000                 0.000000   \n",
       "max                               98.000000                98.000000   \n",
       "\n",
       "       MonthlyIncome  NumberOfDependents  \n",
       "count   1.491490e+05       149149.000000  \n",
       "mean    6.423790e+03            0.740528  \n",
       "std     1.292401e+04            1.108402  \n",
       "min     0.000000e+00            0.000000  \n",
       "25%     3.900000e+03            0.000000  \n",
       "50%     5.400000e+03            0.000000  \n",
       "75%     7.400000e+03            1.000000  \n",
       "max     3.008750e+06           20.000000  "
      ]
     },
     "execution_count": 57,
     "metadata": {},
     "output_type": "execute_result"
    }
   ],
   "source": [
    "train_drop1.describe()"
   ]
  },
  {
   "cell_type": "markdown",
   "id": "f64199b5-7051-4d84-9357-867c06ec8af5",
   "metadata": {},
   "source": [
    "#### Checking Debt Ratio, which ideally should be less than 1"
   ]
  },
  {
   "cell_type": "code",
   "execution_count": 58,
   "id": "09c6e647-58c9-4e21-985d-27c05ce30222",
   "metadata": {},
   "outputs": [
    {
     "data": {
      "text/plain": [
       "count    149149.000000\n",
       "mean        354.087699\n",
       "std        2042.242354\n",
       "min           0.000000\n",
       "25%           0.177333\n",
       "50%           0.368196\n",
       "75%           0.874244\n",
       "max      329664.000000\n",
       "Name: DebtRatio, dtype: float64"
      ]
     },
     "execution_count": 58,
     "metadata": {},
     "output_type": "execute_result"
    }
   ],
   "source": [
    "train_drop1['DebtRatio'].describe()"
   ]
  },
  {
   "cell_type": "markdown",
   "id": "61ae327d-34df-428d-9ea2-80b5367e646f",
   "metadata": {},
   "source": [
    "#### Here more than 75% rows are with 'less than 1' Debt Ratio, but there's a problem with other rows. Delving in that:-\n"
   ]
  },
  {
   "cell_type": "code",
   "execution_count": 59,
   "id": "207abf26-851c-4fee-9f61-899e0cf35cc7",
   "metadata": {},
   "outputs": [
    {
     "name": "stdout",
     "output_type": "stream",
     "text": [
      "\u001b[1mDebt Ratio > 1\u001b[0m \n",
      "SeriousDlqin2yrs\n",
      "0    32767\n",
      "1     2286\n",
      "dtype: int64\n",
      "\u001b[1mDebt Ratio < 1\u001b[0m \n",
      "SeriousDlqin2yrs\n",
      "0    106168\n",
      "1      7703\n",
      "dtype: int64\n"
     ]
    }
   ],
   "source": [
    "print(f\"\\033[1mDebt Ratio > 1\\033[0m \\n{GroupBy(train_drop1[train_drop1['DebtRatio']>1],train_drop1['SeriousDlqin2yrs'])}\")\n",
    "print(f\"\\033[1mDebt Ratio < 1\\033[0m \\n{GroupBy(train_drop1[train_drop1['DebtRatio']<1],train_drop1['SeriousDlqin2yrs'])}\")"
   ]
  },
  {
   "cell_type": "markdown",
   "id": "f2b58548-d087-413c-bd4e-d404ee42a6bb",
   "metadata": {},
   "source": [
    "#### There are decent percentage of defaulters with these anomalitic values of Debt Ratio, dealing with them"
   ]
  },
  {
   "cell_type": "code",
   "execution_count": 60,
   "id": "843b53c7-83ed-4e3d-9356-3abd19581e2f",
   "metadata": {},
   "outputs": [
    {
     "data": {
      "text/plain": [
       "bins\n",
       "(-329.664, 6593.28]       148525\n",
       "(6593.28, 13186.56]          538\n",
       "(13186.56, 19779.84]          44\n",
       "(19779.84, 26373.12]          15\n",
       "(26373.12, 32966.4]            5\n",
       "(32966.4, 39559.68]            6\n",
       "(39559.68, 46152.96]           3\n",
       "(46152.96, 52746.24]           2\n",
       "(52746.24, 59339.52]           0\n",
       "(59339.52, 65932.8]            3\n",
       "(65932.8, 72526.08]            0\n",
       "(72526.08, 79119.36]           0\n",
       "(79119.36, 85712.64]           0\n",
       "(85712.64, 92305.92]           0\n",
       "(92305.92, 98899.2]            0\n",
       "(98899.2, 105492.48]           1\n",
       "(105492.48, 112085.76]         2\n",
       "(112085.76, 118679.04]         0\n",
       "(118679.04, 125272.32]         0\n",
       "(125272.32, 131865.6]          0\n",
       "(131865.6, 138458.88]          0\n",
       "(138458.88, 145052.16]         0\n",
       "(145052.16, 151645.44]         0\n",
       "(151645.44, 158238.72]         0\n",
       "(158238.72, 164832.0]          0\n",
       "(164832.0, 171425.28]          1\n",
       "(171425.28, 178018.56]         0\n",
       "(178018.56, 184611.84]         0\n",
       "(184611.84, 191205.12]         0\n",
       "(191205.12, 197798.4]          0\n",
       "(197798.4, 204391.68]          0\n",
       "(204391.68, 210984.96]         0\n",
       "(210984.96, 217578.24]         0\n",
       "(217578.24, 224171.52]         1\n",
       "(224171.52, 230764.8]          0\n",
       "(230764.8, 237358.08]          0\n",
       "(237358.08, 243951.36]         0\n",
       "(243951.36, 250544.64]         0\n",
       "(250544.64, 257137.92]         0\n",
       "(257137.92, 263731.2]          0\n",
       "(263731.2, 270324.48]          0\n",
       "(270324.48, 276917.76]         0\n",
       "(276917.76, 283511.04]         0\n",
       "(283511.04, 290104.32]         0\n",
       "(290104.32, 296697.6]          0\n",
       "(296697.6, 303290.88]          0\n",
       "(303290.88, 309884.16]         1\n",
       "(309884.16, 316477.44]         0\n",
       "(316477.44, 323070.72]         0\n",
       "(323070.72, 329664.0]          2\n",
       "Name: count, dtype: int64"
      ]
     },
     "execution_count": 60,
     "metadata": {},
     "output_type": "execute_result"
    }
   ],
   "source": [
    "train_drop1['bins'] = pd.cut(train_drop1['DebtRatio'], bins=50)\n",
    "frequency_distribution_equal_width = train_drop1['bins'].value_counts().sort_index()\n",
    "frequency_distribution_equal_width"
   ]
  },
  {
   "cell_type": "markdown",
   "id": "f39359d1-3f9d-4003-b8bf-720400b30465",
   "metadata": {},
   "source": [
    "#### There are varying number of defaulters for these huge values of Debt Ratio, dropping the rows with value from 3rd interval onwards and then removing the bin column created for intervals\n"
   ]
  },
  {
   "cell_type": "code",
   "execution_count": 61,
   "id": "3064a731-878b-43b7-8af8-8991047b6a63",
   "metadata": {},
   "outputs": [
    {
     "name": "stdout",
     "output_type": "stream",
     "text": [
      "(149149, 12)\n",
      "(149063, 11)\n"
     ]
    }
   ],
   "source": [
    "print(train_drop1.shape)\n",
    "train_drop2 = train_drop1.drop(train_drop1[train_drop1['DebtRatio']>13186.56].index)\n",
    "train_drop2.drop('bins', axis=1,inplace = True)\n",
    "print(train_drop2.shape)"
   ]
  },
  {
   "cell_type": "code",
   "execution_count": 62,
   "id": "2284ecbd-41e6-4811-acec-014145f75d1e",
   "metadata": {
    "scrolled": true
   },
   "outputs": [
    {
     "data": {
      "text/html": [
       "<div>\n",
       "<style scoped>\n",
       "    .dataframe tbody tr th:only-of-type {\n",
       "        vertical-align: middle;\n",
       "    }\n",
       "\n",
       "    .dataframe tbody tr th {\n",
       "        vertical-align: top;\n",
       "    }\n",
       "\n",
       "    .dataframe thead th {\n",
       "        text-align: right;\n",
       "    }\n",
       "</style>\n",
       "<table border=\"1\" class=\"dataframe\">\n",
       "  <thead>\n",
       "    <tr style=\"text-align: right;\">\n",
       "      <th></th>\n",
       "      <th>SeriousDlqin2yrs</th>\n",
       "      <th>RevolvingUtilizationOfUnsecuredLines</th>\n",
       "      <th>NumberOfOpenCreditLinesAndLoans</th>\n",
       "      <th>NumberRealEstateLoansOrLines</th>\n",
       "      <th>age</th>\n",
       "      <th>DebtRatio</th>\n",
       "      <th>NumberOfTime30-59DaysPastDueNotWorse</th>\n",
       "      <th>NumberOfTime60-89DaysPastDueNotWorse</th>\n",
       "      <th>NumberOfTimes90DaysLate</th>\n",
       "      <th>MonthlyIncome</th>\n",
       "      <th>NumberOfDependents</th>\n",
       "    </tr>\n",
       "  </thead>\n",
       "  <tbody>\n",
       "    <tr>\n",
       "      <th>count</th>\n",
       "      <td>149063.000000</td>\n",
       "      <td>149063.000000</td>\n",
       "      <td>149063.000000</td>\n",
       "      <td>149063.000000</td>\n",
       "      <td>149063.000000</td>\n",
       "      <td>149063.000000</td>\n",
       "      <td>149063.000000</td>\n",
       "      <td>149063.000000</td>\n",
       "      <td>149063.000000</td>\n",
       "      <td>1.490630e+05</td>\n",
       "      <td>149063.00000</td>\n",
       "    </tr>\n",
       "    <tr>\n",
       "      <th>mean</th>\n",
       "      <td>0.066972</td>\n",
       "      <td>0.322069</td>\n",
       "      <td>8.481582</td>\n",
       "      <td>1.019971</td>\n",
       "      <td>52.307065</td>\n",
       "      <td>331.021184</td>\n",
       "      <td>0.394149</td>\n",
       "      <td>0.212783</td>\n",
       "      <td>0.238490</td>\n",
       "      <td>6.424707e+03</td>\n",
       "      <td>0.74074</td>\n",
       "    </tr>\n",
       "    <tr>\n",
       "      <th>std</th>\n",
       "      <td>0.249974</td>\n",
       "      <td>0.365960</td>\n",
       "      <td>5.134644</td>\n",
       "      <td>1.124490</td>\n",
       "      <td>14.726783</td>\n",
       "      <td>1009.249456</td>\n",
       "      <td>3.857026</td>\n",
       "      <td>3.814635</td>\n",
       "      <td>3.830287</td>\n",
       "      <td>1.292763e+04</td>\n",
       "      <td>1.10851</td>\n",
       "    </tr>\n",
       "    <tr>\n",
       "      <th>min</th>\n",
       "      <td>0.000000</td>\n",
       "      <td>0.000000</td>\n",
       "      <td>0.000000</td>\n",
       "      <td>0.000000</td>\n",
       "      <td>21.000000</td>\n",
       "      <td>0.000000</td>\n",
       "      <td>0.000000</td>\n",
       "      <td>0.000000</td>\n",
       "      <td>0.000000</td>\n",
       "      <td>0.000000e+00</td>\n",
       "      <td>0.00000</td>\n",
       "    </tr>\n",
       "    <tr>\n",
       "      <th>25%</th>\n",
       "      <td>0.000000</td>\n",
       "      <td>0.030028</td>\n",
       "      <td>5.000000</td>\n",
       "      <td>0.000000</td>\n",
       "      <td>41.000000</td>\n",
       "      <td>0.177237</td>\n",
       "      <td>0.000000</td>\n",
       "      <td>0.000000</td>\n",
       "      <td>0.000000</td>\n",
       "      <td>3.900000e+03</td>\n",
       "      <td>0.00000</td>\n",
       "    </tr>\n",
       "    <tr>\n",
       "      <th>50%</th>\n",
       "      <td>0.000000</td>\n",
       "      <td>0.153546</td>\n",
       "      <td>8.000000</td>\n",
       "      <td>1.000000</td>\n",
       "      <td>52.000000</td>\n",
       "      <td>0.367869</td>\n",
       "      <td>0.000000</td>\n",
       "      <td>0.000000</td>\n",
       "      <td>0.000000</td>\n",
       "      <td>5.400000e+03</td>\n",
       "      <td>0.00000</td>\n",
       "    </tr>\n",
       "    <tr>\n",
       "      <th>75%</th>\n",
       "      <td>0.000000</td>\n",
       "      <td>0.553624</td>\n",
       "      <td>11.000000</td>\n",
       "      <td>2.000000</td>\n",
       "      <td>63.000000</td>\n",
       "      <td>0.870773</td>\n",
       "      <td>0.000000</td>\n",
       "      <td>0.000000</td>\n",
       "      <td>0.000000</td>\n",
       "      <td>7.400000e+03</td>\n",
       "      <td>1.00000</td>\n",
       "    </tr>\n",
       "    <tr>\n",
       "      <th>max</th>\n",
       "      <td>1.000000</td>\n",
       "      <td>8.851852</td>\n",
       "      <td>60.000000</td>\n",
       "      <td>60.000000</td>\n",
       "      <td>109.000000</td>\n",
       "      <td>13119.000000</td>\n",
       "      <td>98.000000</td>\n",
       "      <td>98.000000</td>\n",
       "      <td>98.000000</td>\n",
       "      <td>3.008750e+06</td>\n",
       "      <td>20.00000</td>\n",
       "    </tr>\n",
       "  </tbody>\n",
       "</table>\n",
       "</div>"
      ],
      "text/plain": [
       "       SeriousDlqin2yrs  RevolvingUtilizationOfUnsecuredLines  \\\n",
       "count     149063.000000                         149063.000000   \n",
       "mean           0.066972                              0.322069   \n",
       "std            0.249974                              0.365960   \n",
       "min            0.000000                              0.000000   \n",
       "25%            0.000000                              0.030028   \n",
       "50%            0.000000                              0.153546   \n",
       "75%            0.000000                              0.553624   \n",
       "max            1.000000                              8.851852   \n",
       "\n",
       "       NumberOfOpenCreditLinesAndLoans  NumberRealEstateLoansOrLines  \\\n",
       "count                    149063.000000                 149063.000000   \n",
       "mean                          8.481582                      1.019971   \n",
       "std                           5.134644                      1.124490   \n",
       "min                           0.000000                      0.000000   \n",
       "25%                           5.000000                      0.000000   \n",
       "50%                           8.000000                      1.000000   \n",
       "75%                          11.000000                      2.000000   \n",
       "max                          60.000000                     60.000000   \n",
       "\n",
       "                 age      DebtRatio  NumberOfTime30-59DaysPastDueNotWorse  \\\n",
       "count  149063.000000  149063.000000                         149063.000000   \n",
       "mean       52.307065     331.021184                              0.394149   \n",
       "std        14.726783    1009.249456                              3.857026   \n",
       "min        21.000000       0.000000                              0.000000   \n",
       "25%        41.000000       0.177237                              0.000000   \n",
       "50%        52.000000       0.367869                              0.000000   \n",
       "75%        63.000000       0.870773                              0.000000   \n",
       "max       109.000000   13119.000000                             98.000000   \n",
       "\n",
       "       NumberOfTime60-89DaysPastDueNotWorse  NumberOfTimes90DaysLate  \\\n",
       "count                         149063.000000            149063.000000   \n",
       "mean                               0.212783                 0.238490   \n",
       "std                                3.814635                 3.830287   \n",
       "min                                0.000000                 0.000000   \n",
       "25%                                0.000000                 0.000000   \n",
       "50%                                0.000000                 0.000000   \n",
       "75%                                0.000000                 0.000000   \n",
       "max                               98.000000                98.000000   \n",
       "\n",
       "       MonthlyIncome  NumberOfDependents  \n",
       "count   1.490630e+05        149063.00000  \n",
       "mean    6.424707e+03             0.74074  \n",
       "std     1.292763e+04             1.10851  \n",
       "min     0.000000e+00             0.00000  \n",
       "25%     3.900000e+03             0.00000  \n",
       "50%     5.400000e+03             0.00000  \n",
       "75%     7.400000e+03             1.00000  \n",
       "max     3.008750e+06            20.00000  "
      ]
     },
     "execution_count": 62,
     "metadata": {},
     "output_type": "execute_result"
    }
   ],
   "source": [
    "train_drop2.describe()"
   ]
  },
  {
   "cell_type": "markdown",
   "id": "e58150f5-cb3f-4bc9-b746-192274556ce1",
   "metadata": {},
   "source": [
    "#### Moving on to next variables - columns with delayed payments "
   ]
  },
  {
   "cell_type": "code",
   "execution_count": 63,
   "id": "04c0c0e0-c891-4a71-bd39-dc9406392257",
   "metadata": {},
   "outputs": [
    {
     "data": {
      "text/plain": [
       "NumberOfTime30-59DaysPastDueNotWorse\n",
       "0     125177\n",
       "1      16007\n",
       "2       4579\n",
       "3       1749\n",
       "4        747\n",
       "5        341\n",
       "6        139\n",
       "7         54\n",
       "8         25\n",
       "9         12\n",
       "10         4\n",
       "11         1\n",
       "12         2\n",
       "13         1\n",
       "96         5\n",
       "98       220\n",
       "dtype: int64"
      ]
     },
     "execution_count": 63,
     "metadata": {},
     "output_type": "execute_result"
    }
   ],
   "source": [
    "GroupBy(train_drop2,train_drop2['NumberOfTime30-59DaysPastDueNotWorse'])"
   ]
  },
  {
   "cell_type": "code",
   "execution_count": 64,
   "id": "73de8eba-a3cc-4458-975d-1fc6c296c0e9",
   "metadata": {},
   "outputs": [
    {
     "data": {
      "text/plain": [
       "NumberOfTime60-89DaysPastDueNotWorse\n",
       "0     141520\n",
       "1       5718\n",
       "2       1116\n",
       "3        318\n",
       "4        104\n",
       "5         34\n",
       "6         16\n",
       "7          8\n",
       "8          2\n",
       "9          1\n",
       "11         1\n",
       "96         5\n",
       "98       220\n",
       "dtype: int64"
      ]
     },
     "execution_count": 64,
     "metadata": {},
     "output_type": "execute_result"
    }
   ],
   "source": [
    "GroupBy(train_drop2,train_drop2['NumberOfTime60-89DaysPastDueNotWorse'])"
   ]
  },
  {
   "cell_type": "code",
   "execution_count": 65,
   "id": "256ee99b-bb1d-4f6a-8a3c-5df192470f7b",
   "metadata": {},
   "outputs": [
    {
     "data": {
      "text/plain": [
       "NumberOfTimes90DaysLate\n",
       "0     140792\n",
       "1       5224\n",
       "2       1553\n",
       "3        666\n",
       "4        291\n",
       "5        131\n",
       "6         80\n",
       "7         38\n",
       "8         20\n",
       "9         19\n",
       "10         8\n",
       "11         5\n",
       "12         2\n",
       "13         4\n",
       "14         2\n",
       "15         2\n",
       "17         1\n",
       "96         5\n",
       "98       220\n",
       "dtype: int64"
      ]
     },
     "execution_count": 65,
     "metadata": {},
     "output_type": "execute_result"
    }
   ],
   "source": [
    "GroupBy(train_drop2,train_drop2['NumberOfTimes90DaysLate'])"
   ]
  },
  {
   "cell_type": "markdown",
   "id": "d4613e16-2680-44e4-bd4f-d86d42a24430",
   "metadata": {},
   "source": [
    "#### Clearly there's some problem with frequency of late payments showing 96 and 98 day delay. Hence instead simply deleting them, first checking their impact on actual default.\n"
   ]
  },
  {
   "cell_type": "code",
   "execution_count": 66,
   "id": "82994f03-9893-4440-9113-1642c898b3df",
   "metadata": {},
   "outputs": [
    {
     "name": "stdout",
     "output_type": "stream",
     "text": [
      "SeriousDlqin2yrs\n",
      "0     89\n",
      "1    136\n",
      "dtype: int64\n",
      "SeriousDlqin2yrs\n",
      "0     89\n",
      "1    136\n",
      "dtype: int64\n",
      "SeriousDlqin2yrs\n",
      "0     89\n",
      "1    136\n",
      "dtype: int64\n"
     ]
    }
   ],
   "source": [
    "print(train_drop2[train_drop2['NumberOfTimes90DaysLate']>=96].groupby(['SeriousDlqin2yrs']).size())\n",
    "print(train_drop2[train_drop2['NumberOfTime60-89DaysPastDueNotWorse']>=96].groupby(['SeriousDlqin2yrs']).size())\n",
    "print(train_drop2[train_drop2['NumberOfTime30-59DaysPastDueNotWorse']>=96].groupby(['SeriousDlqin2yrs']).size())\n"
   ]
  },
  {
   "cell_type": "markdown",
   "id": "4685d54d-4521-42d8-b38b-3cb772f01020",
   "metadata": {},
   "source": [
    "#### Here we can see there are multiple defaulters for these rows, hence keeing them as it is for now and moving on to the analysis"
   ]
  },
  {
   "cell_type": "code",
   "execution_count": 67,
   "id": "dfcb8b71-e16c-4296-aba6-8f3421ccc6bf",
   "metadata": {},
   "outputs": [
    {
     "data": {
      "text/html": [
       "<div>\n",
       "<style scoped>\n",
       "    .dataframe tbody tr th:only-of-type {\n",
       "        vertical-align: middle;\n",
       "    }\n",
       "\n",
       "    .dataframe tbody tr th {\n",
       "        vertical-align: top;\n",
       "    }\n",
       "\n",
       "    .dataframe thead th {\n",
       "        text-align: right;\n",
       "    }\n",
       "</style>\n",
       "<table border=\"1\" class=\"dataframe\">\n",
       "  <thead>\n",
       "    <tr style=\"text-align: right;\">\n",
       "      <th></th>\n",
       "      <th>SeriousDlqin2yrs</th>\n",
       "      <th>RevolvingUtilizationOfUnsecuredLines</th>\n",
       "      <th>NumberOfOpenCreditLinesAndLoans</th>\n",
       "      <th>NumberRealEstateLoansOrLines</th>\n",
       "      <th>age</th>\n",
       "      <th>DebtRatio</th>\n",
       "      <th>NumberOfTime30-59DaysPastDueNotWorse</th>\n",
       "      <th>NumberOfTime60-89DaysPastDueNotWorse</th>\n",
       "      <th>NumberOfTimes90DaysLate</th>\n",
       "      <th>MonthlyIncome</th>\n",
       "      <th>NumberOfDependents</th>\n",
       "    </tr>\n",
       "  </thead>\n",
       "  <tbody>\n",
       "    <tr>\n",
       "      <th>count</th>\n",
       "      <td>149063.000000</td>\n",
       "      <td>149063.000000</td>\n",
       "      <td>149063.000000</td>\n",
       "      <td>149063.000000</td>\n",
       "      <td>149063.000000</td>\n",
       "      <td>149063.000000</td>\n",
       "      <td>149063.000000</td>\n",
       "      <td>149063.000000</td>\n",
       "      <td>149063.000000</td>\n",
       "      <td>1.490630e+05</td>\n",
       "      <td>149063.00000</td>\n",
       "    </tr>\n",
       "    <tr>\n",
       "      <th>mean</th>\n",
       "      <td>0.066972</td>\n",
       "      <td>0.322069</td>\n",
       "      <td>8.481582</td>\n",
       "      <td>1.019971</td>\n",
       "      <td>52.307065</td>\n",
       "      <td>331.021184</td>\n",
       "      <td>0.394149</td>\n",
       "      <td>0.212783</td>\n",
       "      <td>0.238490</td>\n",
       "      <td>6.424707e+03</td>\n",
       "      <td>0.74074</td>\n",
       "    </tr>\n",
       "    <tr>\n",
       "      <th>std</th>\n",
       "      <td>0.249974</td>\n",
       "      <td>0.365960</td>\n",
       "      <td>5.134644</td>\n",
       "      <td>1.124490</td>\n",
       "      <td>14.726783</td>\n",
       "      <td>1009.249456</td>\n",
       "      <td>3.857026</td>\n",
       "      <td>3.814635</td>\n",
       "      <td>3.830287</td>\n",
       "      <td>1.292763e+04</td>\n",
       "      <td>1.10851</td>\n",
       "    </tr>\n",
       "    <tr>\n",
       "      <th>min</th>\n",
       "      <td>0.000000</td>\n",
       "      <td>0.000000</td>\n",
       "      <td>0.000000</td>\n",
       "      <td>0.000000</td>\n",
       "      <td>21.000000</td>\n",
       "      <td>0.000000</td>\n",
       "      <td>0.000000</td>\n",
       "      <td>0.000000</td>\n",
       "      <td>0.000000</td>\n",
       "      <td>0.000000e+00</td>\n",
       "      <td>0.00000</td>\n",
       "    </tr>\n",
       "    <tr>\n",
       "      <th>25%</th>\n",
       "      <td>0.000000</td>\n",
       "      <td>0.030028</td>\n",
       "      <td>5.000000</td>\n",
       "      <td>0.000000</td>\n",
       "      <td>41.000000</td>\n",
       "      <td>0.177237</td>\n",
       "      <td>0.000000</td>\n",
       "      <td>0.000000</td>\n",
       "      <td>0.000000</td>\n",
       "      <td>3.900000e+03</td>\n",
       "      <td>0.00000</td>\n",
       "    </tr>\n",
       "    <tr>\n",
       "      <th>50%</th>\n",
       "      <td>0.000000</td>\n",
       "      <td>0.153546</td>\n",
       "      <td>8.000000</td>\n",
       "      <td>1.000000</td>\n",
       "      <td>52.000000</td>\n",
       "      <td>0.367869</td>\n",
       "      <td>0.000000</td>\n",
       "      <td>0.000000</td>\n",
       "      <td>0.000000</td>\n",
       "      <td>5.400000e+03</td>\n",
       "      <td>0.00000</td>\n",
       "    </tr>\n",
       "    <tr>\n",
       "      <th>75%</th>\n",
       "      <td>0.000000</td>\n",
       "      <td>0.553624</td>\n",
       "      <td>11.000000</td>\n",
       "      <td>2.000000</td>\n",
       "      <td>63.000000</td>\n",
       "      <td>0.870773</td>\n",
       "      <td>0.000000</td>\n",
       "      <td>0.000000</td>\n",
       "      <td>0.000000</td>\n",
       "      <td>7.400000e+03</td>\n",
       "      <td>1.00000</td>\n",
       "    </tr>\n",
       "    <tr>\n",
       "      <th>max</th>\n",
       "      <td>1.000000</td>\n",
       "      <td>8.851852</td>\n",
       "      <td>60.000000</td>\n",
       "      <td>60.000000</td>\n",
       "      <td>109.000000</td>\n",
       "      <td>13119.000000</td>\n",
       "      <td>98.000000</td>\n",
       "      <td>98.000000</td>\n",
       "      <td>98.000000</td>\n",
       "      <td>3.008750e+06</td>\n",
       "      <td>20.00000</td>\n",
       "    </tr>\n",
       "  </tbody>\n",
       "</table>\n",
       "</div>"
      ],
      "text/plain": [
       "       SeriousDlqin2yrs  RevolvingUtilizationOfUnsecuredLines  \\\n",
       "count     149063.000000                         149063.000000   \n",
       "mean           0.066972                              0.322069   \n",
       "std            0.249974                              0.365960   \n",
       "min            0.000000                              0.000000   \n",
       "25%            0.000000                              0.030028   \n",
       "50%            0.000000                              0.153546   \n",
       "75%            0.000000                              0.553624   \n",
       "max            1.000000                              8.851852   \n",
       "\n",
       "       NumberOfOpenCreditLinesAndLoans  NumberRealEstateLoansOrLines  \\\n",
       "count                    149063.000000                 149063.000000   \n",
       "mean                          8.481582                      1.019971   \n",
       "std                           5.134644                      1.124490   \n",
       "min                           0.000000                      0.000000   \n",
       "25%                           5.000000                      0.000000   \n",
       "50%                           8.000000                      1.000000   \n",
       "75%                          11.000000                      2.000000   \n",
       "max                          60.000000                     60.000000   \n",
       "\n",
       "                 age      DebtRatio  NumberOfTime30-59DaysPastDueNotWorse  \\\n",
       "count  149063.000000  149063.000000                         149063.000000   \n",
       "mean       52.307065     331.021184                              0.394149   \n",
       "std        14.726783    1009.249456                              3.857026   \n",
       "min        21.000000       0.000000                              0.000000   \n",
       "25%        41.000000       0.177237                              0.000000   \n",
       "50%        52.000000       0.367869                              0.000000   \n",
       "75%        63.000000       0.870773                              0.000000   \n",
       "max       109.000000   13119.000000                             98.000000   \n",
       "\n",
       "       NumberOfTime60-89DaysPastDueNotWorse  NumberOfTimes90DaysLate  \\\n",
       "count                         149063.000000            149063.000000   \n",
       "mean                               0.212783                 0.238490   \n",
       "std                                3.814635                 3.830287   \n",
       "min                                0.000000                 0.000000   \n",
       "25%                                0.000000                 0.000000   \n",
       "50%                                0.000000                 0.000000   \n",
       "75%                                0.000000                 0.000000   \n",
       "max                               98.000000                98.000000   \n",
       "\n",
       "       MonthlyIncome  NumberOfDependents  \n",
       "count   1.490630e+05        149063.00000  \n",
       "mean    6.424707e+03             0.74074  \n",
       "std     1.292763e+04             1.10851  \n",
       "min     0.000000e+00             0.00000  \n",
       "25%     3.900000e+03             0.00000  \n",
       "50%     5.400000e+03             0.00000  \n",
       "75%     7.400000e+03             1.00000  \n",
       "max     3.008750e+06            20.00000  "
      ]
     },
     "execution_count": 67,
     "metadata": {},
     "output_type": "execute_result"
    }
   ],
   "source": [
    "train_drop2.describe()"
   ]
  },
  {
   "cell_type": "markdown",
   "id": "d1752411-5fe3-4a4f-bdb9-6d0b622439e6",
   "metadata": {},
   "source": [
    "## All variables are dealt with, now renaming the final training dataframe and proceeeding with the Model"
   ]
  },
  {
   "cell_type": "code",
   "execution_count": 68,
   "id": "9ff7770f-7b1d-4771-9fcc-e842a0cebb64",
   "metadata": {},
   "outputs": [
    {
     "name": "stdout",
     "output_type": "stream",
     "text": [
      "\u001b[1mShape of data:-\u001b[0m\n",
      "(149063, 11)\n",
      "\n",
      "\u001b[1mTrue Count of defaulters:-\u001b[0m\n",
      "SeriousDlqin2yrs\n",
      "0    139080\n",
      "1      9983\n",
      "dtype: int64\n",
      "\n",
      "\u001b[1mTrue Percentage of defaulters:-\u001b[0m\n",
      "SeriousDlqin2yrs\n",
      "0    93.302832\n",
      "1     6.697168\n",
      "dtype: float64\n"
     ]
    }
   ],
   "source": [
    "final_train = train_drop2\n",
    "print(f\"\\033[1mShape of data:-\\033[0m\\n{final_train.shape}\")\n",
    "print(f\"\\n\\033[1mTrue Count of defaulters:-\\033[0m\\n{GroupBy(final_train,['SeriousDlqin2yrs'])}\")\n",
    "print(f\"\\n\\033[1mTrue Percentage of defaulters:-\\033[0m\\n{GroupByPerc(final_train,['SeriousDlqin2yrs'])}\")\n"
   ]
  },
  {
   "cell_type": "code",
   "execution_count": 69,
   "id": "d9bbad2e-630d-488a-8963-24915290de42",
   "metadata": {},
   "outputs": [],
   "source": [
    "from xgboost import XGBClassifier\n",
    "from sklearn.metrics import accuracy_score\n",
    "from sklearn.metrics import confusion_matrix, classification_report,roc_auc_score, roc_curve, auc"
   ]
  },
  {
   "cell_type": "markdown",
   "id": "95d2cefa-a83b-4332-ac1c-9ea713213cd0",
   "metadata": {},
   "source": [
    "### Creating the model with XGBoost-Classifier\n",
    "#### The parameter tree_method='exact' is used here in XGBClassifier. It builds decision trees in the XGBoost model. It uses a greedy algorithm to find the best split for each tree node by scanning all possible split points, and gives very accurate values."
   ]
  },
  {
   "cell_type": "code",
   "execution_count": 70,
   "id": "82850826-75de-4d8f-ab9f-f3d885ff689a",
   "metadata": {},
   "outputs": [],
   "source": [
    "model = XGBClassifier(tree_method = 'exact')"
   ]
  },
  {
   "cell_type": "markdown",
   "id": "23ccd105-0130-44d7-90bf-1957f8204bdb",
   "metadata": {},
   "source": [
    "#### Seperating the true values of target variable as a seperate column and rest of the features to build the model and check accuracy later "
   ]
  },
  {
   "cell_type": "code",
   "execution_count": 71,
   "id": "e08d1b07-01ce-4be6-960f-036b91e5cabb",
   "metadata": {},
   "outputs": [
    {
     "data": {
      "text/html": [
       "<div>\n",
       "<style scoped>\n",
       "    .dataframe tbody tr th:only-of-type {\n",
       "        vertical-align: middle;\n",
       "    }\n",
       "\n",
       "    .dataframe tbody tr th {\n",
       "        vertical-align: top;\n",
       "    }\n",
       "\n",
       "    .dataframe thead th {\n",
       "        text-align: right;\n",
       "    }\n",
       "</style>\n",
       "<table border=\"1\" class=\"dataframe\">\n",
       "  <thead>\n",
       "    <tr style=\"text-align: right;\">\n",
       "      <th></th>\n",
       "      <th>RevolvingUtilizationOfUnsecuredLines</th>\n",
       "      <th>NumberOfOpenCreditLinesAndLoans</th>\n",
       "      <th>NumberRealEstateLoansOrLines</th>\n",
       "      <th>age</th>\n",
       "      <th>DebtRatio</th>\n",
       "      <th>NumberOfTime30-59DaysPastDueNotWorse</th>\n",
       "      <th>NumberOfTime60-89DaysPastDueNotWorse</th>\n",
       "      <th>NumberOfTimes90DaysLate</th>\n",
       "      <th>MonthlyIncome</th>\n",
       "      <th>NumberOfDependents</th>\n",
       "    </tr>\n",
       "  </thead>\n",
       "  <tbody>\n",
       "    <tr>\n",
       "      <th>0</th>\n",
       "      <td>0.003032</td>\n",
       "      <td>60</td>\n",
       "      <td>60</td>\n",
       "      <td>53</td>\n",
       "      <td>5.967504</td>\n",
       "      <td>0</td>\n",
       "      <td>0</td>\n",
       "      <td>0</td>\n",
       "      <td>8000.0</td>\n",
       "      <td>0.0</td>\n",
       "    </tr>\n",
       "    <tr>\n",
       "      <th>1</th>\n",
       "      <td>0.010846</td>\n",
       "      <td>38</td>\n",
       "      <td>32</td>\n",
       "      <td>60</td>\n",
       "      <td>1.041757</td>\n",
       "      <td>0</td>\n",
       "      <td>0</td>\n",
       "      <td>0</td>\n",
       "      <td>70000.0</td>\n",
       "      <td>0.0</td>\n",
       "    </tr>\n",
       "    <tr>\n",
       "      <th>2</th>\n",
       "      <td>0.036942</td>\n",
       "      <td>41</td>\n",
       "      <td>29</td>\n",
       "      <td>43</td>\n",
       "      <td>0.719174</td>\n",
       "      <td>0</td>\n",
       "      <td>0</td>\n",
       "      <td>0</td>\n",
       "      <td>55966.0</td>\n",
       "      <td>0.0</td>\n",
       "    </tr>\n",
       "    <tr>\n",
       "      <th>3</th>\n",
       "      <td>0.635363</td>\n",
       "      <td>33</td>\n",
       "      <td>26</td>\n",
       "      <td>61</td>\n",
       "      <td>0.429449</td>\n",
       "      <td>6</td>\n",
       "      <td>0</td>\n",
       "      <td>1</td>\n",
       "      <td>48000.0</td>\n",
       "      <td>1.0</td>\n",
       "    </tr>\n",
       "    <tr>\n",
       "      <th>4</th>\n",
       "      <td>0.297748</td>\n",
       "      <td>42</td>\n",
       "      <td>25</td>\n",
       "      <td>44</td>\n",
       "      <td>1.237481</td>\n",
       "      <td>0</td>\n",
       "      <td>0</td>\n",
       "      <td>0</td>\n",
       "      <td>12400.0</td>\n",
       "      <td>2.0</td>\n",
       "    </tr>\n",
       "  </tbody>\n",
       "</table>\n",
       "</div>"
      ],
      "text/plain": [
       "   RevolvingUtilizationOfUnsecuredLines  NumberOfOpenCreditLinesAndLoans  \\\n",
       "0                              0.003032                               60   \n",
       "1                              0.010846                               38   \n",
       "2                              0.036942                               41   \n",
       "3                              0.635363                               33   \n",
       "4                              0.297748                               42   \n",
       "\n",
       "   NumberRealEstateLoansOrLines  age  DebtRatio  \\\n",
       "0                            60   53   5.967504   \n",
       "1                            32   60   1.041757   \n",
       "2                            29   43   0.719174   \n",
       "3                            26   61   0.429449   \n",
       "4                            25   44   1.237481   \n",
       "\n",
       "   NumberOfTime30-59DaysPastDueNotWorse  NumberOfTime60-89DaysPastDueNotWorse  \\\n",
       "0                                     0                                     0   \n",
       "1                                     0                                     0   \n",
       "2                                     0                                     0   \n",
       "3                                     6                                     0   \n",
       "4                                     0                                     0   \n",
       "\n",
       "   NumberOfTimes90DaysLate  MonthlyIncome  NumberOfDependents  \n",
       "0                        0         8000.0                 0.0  \n",
       "1                        0        70000.0                 0.0  \n",
       "2                        0        55966.0                 0.0  \n",
       "3                        1        48000.0                 1.0  \n",
       "4                        0        12400.0                 2.0  "
      ]
     },
     "execution_count": 71,
     "metadata": {},
     "output_type": "execute_result"
    }
   ],
   "source": [
    "y_true = final_train['SeriousDlqin2yrs']\n",
    "x = final_train.drop(['SeriousDlqin2yrs'],axis=1)\n",
    "x.head()"
   ]
  },
  {
   "cell_type": "code",
   "execution_count": 72,
   "id": "70f001ba-dcbf-4734-bf79-4ddec9b072f1",
   "metadata": {},
   "outputs": [],
   "source": [
    "model.fit(x,y_true.values.ravel())\n",
    "y_pred = model.predict(x)\n",
    "y_pred_proba = model.predict_proba(x)[:, 1]"
   ]
  },
  {
   "cell_type": "markdown",
   "id": "83af708e-8a73-49d7-a6f9-ccb9a905f574",
   "metadata": {},
   "source": [
    "#### Checking accuracy of predicted values viz a viz true values"
   ]
  },
  {
   "cell_type": "code",
   "execution_count": 73,
   "id": "179eaa36-8705-4823-b58b-171060124e4a",
   "metadata": {
    "scrolled": true
   },
   "outputs": [
    {
     "name": "stdout",
     "output_type": "stream",
     "text": [
      "\u001b[1mModel Accuracy:-\u001b[0m\n",
      "94.58752339614793%\n",
      "\n",
      "\u001b[1mPredicted Count of defaulters:-\u001b[0m\n",
      "SeriousDlqin2yrs\n",
      "0    145206\n",
      "1      3857\n",
      "dtype: int64\n",
      "\n",
      "\u001b[1mPredicted Percentage of defaulters:-\u001b[0m\n",
      "SeriousDlqin2yrs\n",
      "0    97.412503\n",
      "1     2.587497\n",
      "dtype: float64\n"
     ]
    }
   ],
   "source": [
    "acc_scr = accuracy_score(y_true,y_pred)\n",
    "print(f\"\\033[1mModel Accuracy:-\\033[0m\\n{acc_scr*100}%\")\n",
    "print(f\"\\n\\033[1mPredicted Count of defaulters:-\\033[0m\\n{GroupBy(pd.DataFrame(y_pred, columns=['SeriousDlqin2yrs']),['SeriousDlqin2yrs'])}\")\n",
    "print(f\"\\n\\033[1mPredicted Percentage of defaulters:-\\033[0m\\n{GroupByPerc(pd.DataFrame(y_pred, columns=['SeriousDlqin2yrs']),['SeriousDlqin2yrs'])}\")"
   ]
  },
  {
   "cell_type": "code",
   "execution_count": 74,
   "id": "07fd6f4c-9db7-40ba-a2d1-018d350e42fb",
   "metadata": {},
   "outputs": [
    {
     "name": "stdout",
     "output_type": "stream",
     "text": [
      "\u001b[1m The Classification Report:-\u001b[0m\n",
      "\n",
      "              precision    recall  f1-score   support\n",
      "\n",
      "           0       0.95      0.99      0.97    139080\n",
      "           1       0.75      0.29      0.42      9983\n",
      "\n",
      "    accuracy                           0.95    149063\n",
      "   macro avg       0.85      0.64      0.69    149063\n",
      "weighted avg       0.94      0.95      0.93    149063\n",
      "\n"
     ]
    }
   ],
   "source": [
    "print('\\033[1m The Classification Report:-\\033[0m\\n')\n",
    "print(classification_report(y_true,y_pred))"
   ]
  },
  {
   "cell_type": "code",
   "execution_count": 76,
   "id": "c7d0f69c-2734-4f8b-8c86-ae75a63714da",
   "metadata": {},
   "outputs": [
    {
     "name": "stdout",
     "output_type": "stream",
     "text": [
      "AUC Score: 0.9053\n"
     ]
    }
   ],
   "source": [
    "auc = roc_auc_score(y_true, y_pred_proba)\n",
    "print(f\"AUC Score: {auc:.4f}\")"
   ]
  },
  {
   "cell_type": "markdown",
   "id": "5f8786b7-5a55-41c9-a6cb-491301acf455",
   "metadata": {},
   "source": [
    "## Creating and visualising the confusion matrix"
   ]
  },
  {
   "cell_type": "code",
   "execution_count": 77,
   "id": "0c2e269c-40c5-4261-a08e-a44e1c8a6c0e",
   "metadata": {},
   "outputs": [
    {
     "name": "stdout",
     "output_type": "stream",
     "text": [
      "[[138109    971]\n",
      " [  7097   2886]]\n"
     ]
    }
   ],
   "source": [
    "cm = confusion_matrix(y_true,y_pred)#Creating a confusion matrix to see true & false +ves and -ves\n",
    "print(cm)"
   ]
  },
  {
   "cell_type": "code",
   "execution_count": 78,
   "id": "299b4aec-259b-41b9-81a0-41367f51670a",
   "metadata": {},
   "outputs": [
    {
     "data": {
      "image/png": "[encoded data removed]",
      "text/plain": [
       "<Figure size 640x480 with 2 Axes>"
      ]
     },
     "metadata": {},
     "output_type": "display_data"
    }
   ],
   "source": [
    "sns.heatmap(cm,annot=True,fmt='d',cmap='Greens',linewidths=0.5,linecolor='Black')\n",
    "plt.xticks(np.arange(2)+.5,['No default','Default'])\n",
    "plt.yticks(np.arange(2)+.5,['No default','Default'])\n",
    "plt.xlabel(\"Predicted Values\")\n",
    "plt.ylabel(\"Actual Values\")\n",
    "plt.title(\"The Confusion Matrix\", fontweight='bold')\n",
    "plt.show()"
   ]
  },
  {
   "cell_type": "code",
   "execution_count": null,
   "id": "ab03c6fb-aba7-40c0-be5c-d8fb66299001",
   "metadata": {},
   "outputs": [],
   "source": []
  }
 ],
 "metadata": {
  "kernelspec": {
   "display_name": "Python 3 (ipykernel)",
   "language": "python",
   "name": "python3"
  },
  "language_info": {
   "codemirror_mode": {
    "name": "ipython",
    "version": 3
   },
   "file_extension": ".py",
   "mimetype": "text/x-python",
   "name": "python",
   "nbconvert_exporter": "python",
   "pygments_lexer": "ipython3",
   "version": "3.13.5"
  }
 },
 "nbformat": 4,
 "nbformat_minor": 5
}
